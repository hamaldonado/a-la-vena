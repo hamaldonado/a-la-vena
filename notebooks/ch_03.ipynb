{
 "cells": [
  {
   "cell_type": "markdown",
   "metadata": {},
   "source": [
    "## Loops \n",
    "\n",
    "**Sentencia `while`**\n",
    "\n",
    "``` python\n",
    "while condicion:\n",
    "    sentencia_1\n",
    "    sentencia_2\n",
    "```\n",
    "\n",
    "Ejecuta las sentencias dentro del bloque `while` mientras la _condicion_ sea verdadera."
   ]
  },
  {
   "cell_type": "code",
   "execution_count": null,
   "metadata": {},
   "outputs": [],
   "source": [
    "# Tarea: imprimir los primeros 10 numeros pares\n",
    "\n",
    "n = 2\n",
    "cuenta = 0\n",
    "\n",
    "while cuenta < 10:\n",
    "    \n",
    "    # imprime el numero par\n",
    "    print(n)                \n",
    "    \n",
    "    # salta al siguiente numero par\n",
    "    n = n + 2\n",
    "\n",
    "    # incrementa la cuenta de numeros pares impresos\n",
    "    cuenta = cuenta + 1"
   ]
  },
  {
   "cell_type": "markdown",
   "metadata": {},
   "source": [
    "**Sentencia `for-in`**\n",
    "\n",
    "``` python\n",
    "for item in objeto_iterable:\n",
    "    sentencia_1\n",
    "    sentencia_2\n",
    "```\n",
    "\n",
    "Recorre todos los elementos almacenados en el _objeto_iterable_.  Por cada elemento encontrado asigna a _item_ dicho elemento y ejecuta todas las sentencias que estan dentro del bloque `for` "
   ]
  },
  {
   "cell_type": "code",
   "execution_count": null,
   "metadata": {},
   "outputs": [],
   "source": [
    "for continente in (\"America\", \"Africa\", \"Asia\", \"Europa\", \"Oceania\"):\n",
    "    print(\"Quisiera conocer.. \" + continente) "
   ]
  },
  {
   "cell_type": "markdown",
   "metadata": {},
   "source": [
    "**La funcion `range`**\n",
    "\n",
    "``` python\n",
    "iterable = range([start], stop, [step])\n",
    "```\n",
    "\n",
    "Retorna un objeto iterable cuyo contenido es una secuencia de numeros dentro de un rango dado.\n",
    "\n",
    "* start (opcional): indica desde que numero inicia la secuencia.  Por defecto es 0.\n",
    "* stop (obligatorio): indica hasta que numero va la secuencia.\n",
    "* step (opcional): indica cuanto sumar al valor actual de la secuencia para calcular el siguiente.  Por defecto es 1. \n",
    "\n",
    "**Nota**: Los rangos en Python siempre son cerrados por la izquierda pero abiertos por la derecha.  Es decir, range(1, 10), retornara una secuencia de numeros que van del 1 al 9."
   ]
  },
  {
   "cell_type": "code",
   "execution_count": null,
   "metadata": {},
   "outputs": [],
   "source": [
    "# imprime una lista del 1 al 9 \n",
    "for n in range(1, 10):\n",
    "    print(n)"
   ]
  },
  {
   "cell_type": "markdown",
   "metadata": {},
   "source": [
    "Aplicando el parametro `step`, podemos hacer que la secuencia solo considere un subconjunto de numeros. "
   ]
  },
  {
   "cell_type": "code",
   "execution_count": null,
   "metadata": {},
   "outputs": [],
   "source": [
    "# imprime los multiplos de 3 que hay entre 0 y 20 \n",
    "for n in range(0, 20, 3):\n",
    "    print(n)"
   ]
  },
  {
   "cell_type": "markdown",
   "metadata": {},
   "source": [
    "Tambien se puede usar range para generar una secuencia descendente."
   ]
  },
  {
   "cell_type": "code",
   "execution_count": null,
   "metadata": {},
   "outputs": [],
   "source": [
    "# Imprime una cuenta regresiva desde el 10 hasta el 1\n",
    "for n in range(10, 0, -1):\n",
    "    print(n)"
   ]
  }
 ],
 "metadata": {
  "kernelspec": {
   "display_name": "venv",
   "language": "python",
   "name": "python3"
  },
  "language_info": {
   "codemirror_mode": {
    "name": "ipython",
    "version": 3
   },
   "file_extension": ".py",
   "mimetype": "text/x-python",
   "name": "python",
   "nbconvert_exporter": "python",
   "pygments_lexer": "ipython3",
   "version": "3.10.12"
  }
 },
 "nbformat": 4,
 "nbformat_minor": 2
}
