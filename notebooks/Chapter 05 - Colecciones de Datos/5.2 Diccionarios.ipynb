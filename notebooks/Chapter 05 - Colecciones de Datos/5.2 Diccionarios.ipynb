{
 "cells": [
  {
   "cell_type": "markdown",
   "metadata": {},
   "source": [
    "### **5.2. Diccionarios**\n",
    "Los diccionarios en Python son una estructura de datos muy potente que permite almacenar pares clave-valor. Esto significa que cada elemento en un diccionario está compuesto por una clave única y su correspondiente valor asociado.  Son especialmente utiles cuando se requiere almacenar informacion a la que luego se necesitara acceder rapidamente."
   ]
  },
  {
   "cell_type": "markdown",
   "metadata": {},
   "source": [
    "#### **5.2.1 Crear un diccionario**\n",
    "Para crear un diccionario en Python, se utilizan llaves {} y se separan las claves y los valores con dos puntos :. Ej:"
   ]
  },
  {
   "cell_type": "code",
   "execution_count": null,
   "metadata": {},
   "outputs": [],
   "source": [
    "empleado = {\n",
    "    \"nombre\": \"Juan\", \n",
    "    \"edad\": 25, \n",
    "    \"ciudad\": \"Lima\"\n",
    "    }\n"
   ]
  },
  {
   "cell_type": "markdown",
   "metadata": {},
   "source": [
    "#### **5.2.2 Acceder a los elementos de un diccionario**\n",
    "Los elementos de un diccionario se pueden acceder de dos maneras.  La primera, es usando los corchetes y el nombre de la clave. Ej:"
   ]
  },
  {
   "cell_type": "code",
   "execution_count": null,
   "metadata": {},
   "outputs": [],
   "source": [
    "print(empleado[\"nombre\"])   # Juan"
   ]
  },
  {
   "cell_type": "markdown",
   "metadata": {},
   "source": [
    "La segunda forma es usando la función `get()`.  Ej:"
   ]
  },
  {
   "cell_type": "code",
   "execution_count": null,
   "metadata": {},
   "outputs": [],
   "source": [
    "print(empleado.get(\"nombre\"))   # Juan"
   ]
  },
  {
   "cell_type": "markdown",
   "metadata": {},
   "source": [
    "La diferencia entre ambos métodos se da cuando la clave buscada no existe.  En el caso del primer método (corchetes), en caso la clave no exista, Python arrojará un error.  En cambio, con el segundo método, en caso de no existir la clave, devolvera `None`."
   ]
  },
  {
   "cell_type": "code",
   "execution_count": null,
   "metadata": {},
   "outputs": [],
   "source": [
    "print(empleado[\"apellidos\"])   # Arrojará error, pues la clave \"apellido\" no existe \n"
   ]
  },
  {
   "cell_type": "code",
   "execution_count": null,
   "metadata": {},
   "outputs": [],
   "source": [
    "print(empleado.get(\"apellido\"))   # None"
   ]
  },
  {
   "cell_type": "markdown",
   "metadata": {},
   "source": [
    "Otra ventaja de usar la funcion `get()` es que podemos definir un valor de retorno por defecto, en caso la clave no se encuentre.  Ej:"
   ]
  },
  {
   "cell_type": "code",
   "execution_count": null,
   "metadata": {},
   "outputs": [],
   "source": [
    "print(empleado.get(\"apellido\", \"Sin Informacion\"))   #  Imprime \"Sin Informacion\""
   ]
  },
  {
   "cell_type": "markdown",
   "metadata": {},
   "source": [
    "#### **5.2.3 Modificar y/o agregar elementos a un diccionario**\n",
    "Los valores de un diccionario pueden ser modificados o nuevos elementos pueden ser agregados asignando un nuevo valor a una clave específica. Ej:"
   ]
  },
  {
   "cell_type": "code",
   "execution_count": null,
   "metadata": {},
   "outputs": [],
   "source": [
    "empleado[\"edad\"] = 30      #  Modifica el valor anterior (25) cambiandolo por 30.\n",
    "empleado[\"genero\"] = \"masculino\"  # Agrega una nueva clave llamada \"genero\""
   ]
  },
  {
   "cell_type": "markdown",
   "metadata": {},
   "source": [
    "#### **5.2.4 Eliminar elementos de un diccionario**\n",
    "Para eliminar un elemento de un diccionario se debe utilizar la instruccion `del` seguida de la clave que se desea eliminar. Ej:"
   ]
  },
  {
   "cell_type": "code",
   "execution_count": null,
   "metadata": {},
   "outputs": [],
   "source": [
    "del empleado[\"ciudad\"]"
   ]
  },
  {
   "cell_type": "markdown",
   "metadata": {},
   "source": [
    "#### **5.2.5 Funciones comunmente usadas con diccionarios**\n",
    "Python proporciona algunas funciones muy útiles para trabajar con diccionarios, incluyendo:\n",
    "\n",
    "* `keys()`: Devuelve una lista de todas las claves en el diccionario.\n",
    "* `values()`: Devuelve una lista de todos los valores en el diccionario.\n",
    "* `items()`: Devuelve una lista de tuplas que contienen las parejas clave-valor del diccionario.\n",
    "\n",
    "Ej:"
   ]
  },
  {
   "cell_type": "code",
   "execution_count": null,
   "metadata": {},
   "outputs": [],
   "source": [
    "# Obtener todas las claves\n",
    "print(empleado.keys())  # dict_keys(['nombre', 'edad', 'genero'])\n",
    "\n",
    "# Obtener todos los valores\n",
    "print(empleado.values())  # dict_values(['Juan', 30, 'masculino'])\n",
    "\n",
    "# Obtener todas las parejas clave-valor\n",
    "print(empleado.items())  # dict_items([('nombre', 'Juan'), ('edad', 30), ('genero', 'masculino')])"
   ]
  }
 ],
 "metadata": {
  "kernelspec": {
   "display_name": "venv",
   "language": "python",
   "name": "python3"
  },
  "language_info": {
   "codemirror_mode": {
    "name": "ipython",
    "version": 3
   },
   "file_extension": ".py",
   "mimetype": "text/x-python",
   "name": "python",
   "nbconvert_exporter": "python",
   "pygments_lexer": "ipython3",
   "version": "3.10.12"
  }
 },
 "nbformat": 4,
 "nbformat_minor": 2
}
