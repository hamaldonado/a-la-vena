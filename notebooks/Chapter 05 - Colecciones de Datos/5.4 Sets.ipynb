{
 "cells": [
  {
   "cell_type": "markdown",
   "metadata": {},
   "source": [
    "### **5.4 Sets**\n",
    "Los sets en Python son una estructura de datos que representa una colección **desordenada** de elementos **únicos**.  Su capacidad para realizar operaciones de conjunto de manera eficiente los hace útiles en una variedad de aplicaciones, como la eliminación de duplicados, la comprobación de la pertenencia de elementos y la realización de operaciones matemáticas de conjunto."
   ]
  },
  {
   "cell_type": "markdown",
   "metadata": {},
   "source": [
    "#### **5.4.1 Creación de sets**\n",
    "Para crear un conjunto en Python, se utilizan llaves {} o la función `set()`. Ej:"
   ]
  },
  {
   "cell_type": "code",
   "execution_count": 1,
   "metadata": {},
   "outputs": [],
   "source": [
    "puntos_cardinales = {'Norte','Sur','Este'}\n",
    "amigos = set(['Ana', 'Pepe', 'Juana'])\n",
    "conjunto_vacio = set()"
   ]
  },
  {
   "cell_type": "markdown",
   "metadata": {},
   "source": [
    "Notese que para crear un set vacio, necesariamente debemnos usar la funcion `set()`.  Si usaramos las llaves sin elementos, no estariamos creando un set, sino un diccionario."
   ]
  },
  {
   "cell_type": "code",
   "execution_count": null,
   "metadata": {},
   "outputs": [],
   "source": [
    "set_vacio = set()\n",
    "diccionario_vacio = {}"
   ]
  },
  {
   "cell_type": "markdown",
   "metadata": {},
   "source": [
    "#### **5.4.2 Agregar y quitar elementos de un set**\n",
    "Para agregar un elemento a un set, usamos la funcion `add()`. Ej:"
   ]
  },
  {
   "cell_type": "code",
   "execution_count": 2,
   "metadata": {},
   "outputs": [],
   "source": [
    "puntos_cardinales.add('Oeste')"
   ]
  },
  {
   "cell_type": "markdown",
   "metadata": {},
   "source": [
    "Para quitar un elemento de un set, usamos la funcion `remove()`. Ej:"
   ]
  },
  {
   "cell_type": "code",
   "execution_count": 3,
   "metadata": {},
   "outputs": [],
   "source": [
    "amigos.remove('Juana')"
   ]
  },
  {
   "cell_type": "markdown",
   "metadata": {},
   "source": [
    "Si al momento de eliminar, indicamos un valor que no es miembrop del set, nos arrojara un error:"
   ]
  },
  {
   "cell_type": "code",
   "execution_count": null,
   "metadata": {},
   "outputs": [],
   "source": [
    "puntos_cardinales.remove('Nor-Oeste')   # Arroja 'KeyError'"
   ]
  },
  {
   "cell_type": "markdown",
   "metadata": {},
   "source": [
    "Una forma alternativa de eliminar un elemento de un set es usar la funcion `discard()`.  A diferencia de `remove()`, esta funcion no arroja un error en caso no exista el elemento indicado en el set.  En dichos casos simplemente no hace nada."
   ]
  },
  {
   "cell_type": "code",
   "execution_count": 5,
   "metadata": {},
   "outputs": [],
   "source": [
    "puntos_cardinales.discard('Nor-Oeste')  # No arroja error"
   ]
  },
  {
   "cell_type": "markdown",
   "metadata": {},
   "source": [
    "#### **5.4.3 Elementos unicos**\n",
    "Los sets en Python contienen elementos únicos. Si intentamos agregar un elemento que ya existe en el conjunto, este simplemente lo ignorará. Ej:"
   ]
  },
  {
   "cell_type": "code",
   "execution_count": null,
   "metadata": {},
   "outputs": [],
   "source": [
    "# No hace nada pues 'Norte' ya existe en el set\n",
    "puntos_cardinales.add('Norte')  "
   ]
  },
  {
   "cell_type": "markdown",
   "metadata": {},
   "source": [
    "#### **5.4.4 Operaciones comunes con sets**\n",
    "Python proporciona varios métodos y operadores para realizar operaciones de conjuntos.\n",
    "\n",
    "* `union()`: Devuelve un set que contiene todos los elementos de ambos sets.\n",
    "* `intersection()`: Devuelve un set que contiene los elementos que están presentes en dos sets.\n",
    "* `difference()`: Devuelve un set que contiene los elementos que están en el primer set pero no en el segundo.\n",
    "* `symmetric_difference()`: Devuelve un set que contiene los elementos que están en cualquiera de los sets, pero no en ambos.\n",
    "\n",
    "Ej:"
   ]
  },
  {
   "cell_type": "code",
   "execution_count": 6,
   "metadata": {},
   "outputs": [],
   "source": [
    "set_1 = {'Ana', 'Pepe', 'Juana'}\n",
    "set_2 = {'Pepe', 'Luis', 'Jorge'}\n",
    "\n",
    "# Unión de conjuntos\n",
    "union = set_1.union(set_2)  # {'Ana', 'Pepe', 'Juana', 'Luis', 'Jorge'}\n",
    "\n",
    "# Intersección de conjuntos\n",
    "inters = set_1.intersection(set_2)  # {'Pepe'}\n",
    "\n",
    "# Diferencia de conjuntos\n",
    "dif = set_1.difference(set_2)  # {'Ana', 'Juana'}\n",
    "\n",
    "# Diferencia simétrica de conjuntos\n",
    "dif_sim = set_1.symmetric_difference(set_2)  # {'Ana', 'Juana', 'Luis', 'Jorge'}"
   ]
  }
 ],
 "metadata": {
  "kernelspec": {
   "display_name": "venv",
   "language": "python",
   "name": "python3"
  },
  "language_info": {
   "codemirror_mode": {
    "name": "ipython",
    "version": 3
   },
   "file_extension": ".py",
   "mimetype": "text/x-python",
   "name": "python",
   "nbconvert_exporter": "python",
   "pygments_lexer": "ipython3",
   "version": "3.10.12"
  }
 },
 "nbformat": 4,
 "nbformat_minor": 2
}
