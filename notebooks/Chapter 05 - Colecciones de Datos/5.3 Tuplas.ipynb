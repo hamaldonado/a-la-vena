{
 "cells": [
  {
   "cell_type": "markdown",
   "metadata": {},
   "source": [
    "### **5.3 Tuplas**\n",
    "Las tuplas en Python son una estructura de datos similar a las listas, pero con la diferencia fundamental de que son *inmutables*, es decir, no se pueden modificar una vez creadas.  Son especialmente utiles cuando se necesita garantizar la integridad de los datos y/o mejorar la eficiencia del código. "
   ]
  },
  {
   "cell_type": "markdown",
   "metadata": {},
   "source": [
    "#### **5.3.1 Crear una tupla**\n",
    "Para crear una tupla en Python, se utilizan paréntesis () y se separan los elementos con comas. Ej:"
   ]
  },
  {
   "cell_type": "code",
   "execution_count": null,
   "metadata": {},
   "outputs": [],
   "source": [
    "vocales = ('A', 'E', 'I', 'O', 'U')"
   ]
  },
  {
   "cell_type": "markdown",
   "metadata": {},
   "source": [
    "#### **5.3.2 Acceder a los elementos de una tupla**\n",
    "Los elementos de una tupla se pueden acceder mediante índices, al igual que en las listas. Ej:"
   ]
  },
  {
   "cell_type": "code",
   "execution_count": null,
   "metadata": {},
   "outputs": [],
   "source": [
    "print(vocales[1])   # 'E'\n"
   ]
  },
  {
   "cell_type": "markdown",
   "metadata": {},
   "source": [
    "Al igual que las listas, es posible acceder a un rango de elementos.  Ej:"
   ]
  },
  {
   "cell_type": "code",
   "execution_count": null,
   "metadata": {},
   "outputs": [],
   "source": [
    "print(vocales[:3])  # ('A', 'E', 'I')\n",
    "print(vocales[-1])  # 'U'"
   ]
  },
  {
   "cell_type": "markdown",
   "metadata": {},
   "source": [
    "En general, los mismos metodos de acceso a los elementos disponibles en las listas estan tambien disponibles para las tuplas."
   ]
  },
  {
   "cell_type": "markdown",
   "metadata": {},
   "source": [
    "#### **5.3.3 Recorrer los elementos de una tupla**\n",
    "Al igual que las listas, para recorrer los elementos de una tupla usamos la sentencia `for-in`.  Ej:"
   ]
  },
  {
   "cell_type": "code",
   "execution_count": null,
   "metadata": {},
   "outputs": [],
   "source": [
    "# Imprime los elementos de la tupla, uno por linea\n",
    "for vocal in vocales:\n",
    "    print(vocal)"
   ]
  },
  {
   "cell_type": "markdown",
   "metadata": {},
   "source": [
    "#### **5.3.4 Inmutabilidad**\n",
    "Una vez que se crea una tupla, no se pueden agregar, eliminar ni modificar elementos. Esto significa que las tuplas son inmutables. Por ejemplo, el siguiente código generaría un error:"
   ]
  },
  {
   "cell_type": "code",
   "execution_count": null,
   "metadata": {},
   "outputs": [],
   "source": [
    "vocales[1] = 'Z'  # TypeError"
   ]
  },
  {
   "cell_type": "markdown",
   "metadata": {},
   "source": [
    "#### **5.3.5 Ventajas de las tuplas sobre las listas**\n",
    "\n",
    "* **Velocidad**: Las tuplas son más eficientes que las listas, ya que ocupan menos espacio en memoria y el acceso a sus elementos es más rápido.\n",
    "* **Integridad de Datos**: Al ser inmutables, las tuplas garantizan que los datos no se modifiquen accidentalmente."
   ]
  },
  {
   "cell_type": "markdown",
   "metadata": {},
   "source": [
    "#### **5.3.6 Funciones comunmente usadas con tuplas**\n",
    "Las tuplas, a diferencia de las listas, no admiten funciones para agregar, modificar o eliminar elementos debido a su naturaleza inmutable.  Sin embargo, hay algunas funciones de las listas que tamnbien se encuentran en las Tuplas:\n",
    "\n",
    "* `count()`: Devuelve el número de veces que aparece un elemento en la tupla.\n",
    "* `index()`: Devuelve el índice de la primera aparición de un elemento en la tupla.\n",
    "\n",
    "Ej:"
   ]
  },
  {
   "cell_type": "code",
   "execution_count": null,
   "metadata": {},
   "outputs": [],
   "source": [
    "# Contar el número de veces que aparece un elemento en la tupla\n",
    "print(vocales.count('U'))  #  1\n",
    "\n",
    "# Encontrar el índice de un elemento en la tupla\n",
    "print(vocales.index('O'))  #  3 "
   ]
  },
  {
   "cell_type": "markdown",
   "metadata": {},
   "source": [
    "Finalmente, algunas de las funciones que vimos en listas, estan tambien disponibles para las tuplas:"
   ]
  },
  {
   "cell_type": "code",
   "execution_count": null,
   "metadata": {},
   "outputs": [],
   "source": [
    "print(\"\".join(vocales))   # \"AEIOU\"\n",
    "print(len(vocales))       # 5"
   ]
  }
 ],
 "metadata": {
  "kernelspec": {
   "display_name": "venv",
   "language": "python",
   "name": "python3"
  },
  "language_info": {
   "codemirror_mode": {
    "name": "ipython",
    "version": 3
   },
   "file_extension": ".py",
   "mimetype": "text/x-python",
   "name": "python",
   "nbconvert_exporter": "python",
   "pygments_lexer": "ipython3",
   "version": "3.10.12"
  }
 },
 "nbformat": 4,
 "nbformat_minor": 2
}
