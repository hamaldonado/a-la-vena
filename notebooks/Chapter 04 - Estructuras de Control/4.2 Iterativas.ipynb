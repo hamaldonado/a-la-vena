{
 "cells": [
  {
   "cell_type": "markdown",
   "metadata": {},
   "source": [
    "### **4.2. Iterativas** \n",
    "\n",
    "#### **4.2.1 Sentencia `while`**\n",
    "\n",
    "``` python\n",
    "while condicion:\n",
    "    sentencia_1\n",
    "    sentencia_2\n",
    "```\n",
    "\n",
    "Ejecuta las sentencias dentro del bloque `while` mientras la _condicion_ sea verdadera."
   ]
  },
  {
   "cell_type": "code",
   "execution_count": null,
   "metadata": {},
   "outputs": [],
   "source": [
    "# Tarea: imprimir los primeros 10 numeros pares\n",
    "\n",
    "n = 2\n",
    "cuenta = 0\n",
    "\n",
    "while cuenta < 10:\n",
    "    \n",
    "    # imprime el numero par\n",
    "    print(n)                \n",
    "    \n",
    "    # salta al siguiente numero par\n",
    "    n = n + 2\n",
    "\n",
    "    # incrementa la cuenta de numeros pares impresos\n",
    "    cuenta = cuenta + 1"
   ]
  },
  {
   "cell_type": "markdown",
   "metadata": {},
   "source": [
    "#### **4.2.2 Sentencias `break` y `continue`**\n",
    "\n",
    "#### **break**\n",
    "\n",
    "En ocasiones necesitamos detener la ejecución del bloque `while` aun cuando la condición principal no se ha cumplido.  Para esos casos podemos usar la sentencia `break`."
   ]
  },
  {
   "cell_type": "code",
   "execution_count": null,
   "metadata": {},
   "outputs": [],
   "source": [
    "i = 1\n",
    "\n",
    "# Loop infinito. No acabará nunca a menos que un 'break' lo detenga\n",
    "while True:      \n",
    "\n",
    "    print(i)\n",
    "\n",
    "    # Condición de salida\n",
    "    if i == 10:\n",
    "        break; \n",
    "\n",
    "    i += 1"
   ]
  },
  {
   "cell_type": "markdown",
   "metadata": {},
   "source": [
    "#### **continue**\n",
    "\n",
    "A veces necesitamos saltarnos una iteración del bloque `while`.  En dichas ocasiones podemos usar la sentencia `continue`. "
   ]
  },
  {
   "cell_type": "code",
   "execution_count": null,
   "metadata": {},
   "outputs": [],
   "source": [
    "i = 0\n",
    "\n",
    "# Loop infinito. No acabará nunca a menos que un 'break' lo detenga\n",
    "while i < 10:      \n",
    "    i += 1\n",
    "\n",
    "    # Si i es 6, nos saltamos el resto del bloque y vamos a la siguiente iteración\n",
    "    if i == 6:\n",
    "        continue\n",
    "\n",
    "    print(i)\n"
   ]
  },
  {
   "cell_type": "markdown",
   "metadata": {},
   "source": [
    "#### **4.2.3. Sentencia `for-in`**\n",
    "\n",
    "``` python\n",
    "for item in objeto_iterable:\n",
    "    sentencia_1\n",
    "    sentencia_2\n",
    "```\n",
    "\n",
    "Recorre todos los elementos almacenados en el _objeto_iterable_.  Por cada elemento encontrado asigna a _item_ dicho elemento y ejecuta todas las sentencias que están dentro del bloque `for` "
   ]
  },
  {
   "cell_type": "code",
   "execution_count": null,
   "metadata": {},
   "outputs": [],
   "source": [
    "for continente in (\"America\", \"Africa\", \"Asia\", \"Europa\", \"Oceania\"):\n",
    "    print(\"Quisiera conocer.. \" + continente) "
   ]
  },
  {
   "cell_type": "markdown",
   "metadata": {},
   "source": [
    "#### **4.2.4. La función `range()`**\n",
    "\n",
    "``` python\n",
    "iterable = range([start], stop, [step])\n",
    "```\n",
    "\n",
    "Retorna un objeto iterable cuyo contenido es una secuencia de números dentro de un rango dado.\n",
    "\n",
    "* start (opcional): indica desde que número inicia la secuencia.  Por defecto es 0.\n",
    "* stop (obligatorio): indica hasta que número va la secuencia.\n",
    "* step (opcional): indica cuánto sumar al valor actual de la secuencia para calcular el siguiente.  Por defecto es 1. \n",
    "\n",
    "**Nota**: Los rangos en Python siempre son cerrados por la izquierda pero abiertos por la derecha.  Es decir, range(1, 10), retornara una secuencia de numeros que van del 1 al 9."
   ]
  },
  {
   "cell_type": "code",
   "execution_count": null,
   "metadata": {},
   "outputs": [],
   "source": [
    "# imprime una lista del 1 al 9 \n",
    "for n in range(1, 10):\n",
    "    print(n)"
   ]
  },
  {
   "cell_type": "markdown",
   "metadata": {},
   "source": [
    "Aplicando el parámetro `step`, podemos hacer que la secuencia sólo considere un subconjunto de números. "
   ]
  },
  {
   "cell_type": "code",
   "execution_count": null,
   "metadata": {},
   "outputs": [],
   "source": [
    "# imprime los múltiplos de 3 que hay entre 0 y 20 \n",
    "for n in range(0, 20, 3):\n",
    "    print(n)"
   ]
  },
  {
   "cell_type": "markdown",
   "metadata": {},
   "source": [
    "También se puede usar `range()` para generar una secuencia descendente."
   ]
  },
  {
   "cell_type": "code",
   "execution_count": null,
   "metadata": {},
   "outputs": [],
   "source": [
    "# Imprime una cuenta regresiva desde el 10 hasta el 1\n",
    "for n in range(10, 0, -1):\n",
    "    print(n)"
   ]
  }
 ],
 "metadata": {
  "kernelspec": {
   "display_name": "venv",
   "language": "python",
   "name": "python3"
  },
  "language_info": {
   "codemirror_mode": {
    "name": "ipython",
    "version": 3
   },
   "file_extension": ".py",
   "mimetype": "text/x-python",
   "name": "python",
   "nbconvert_exporter": "python",
   "pygments_lexer": "ipython3",
   "version": "3.11.2"
  }
 },
 "nbformat": 4,
 "nbformat_minor": 2
}
