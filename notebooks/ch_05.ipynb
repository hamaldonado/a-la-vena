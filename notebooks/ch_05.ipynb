{
 "cells": [
  {
   "cell_type": "markdown",
   "metadata": {},
   "source": [
    "## 5. Colecciones de Datos\n",
    "\n",
    "### 5.1. Listas\n",
    "\n",
    "Una lista es una colección lineal y ordenada de datos.   Las listas pueden contener datos de cualquier tipo."
   ]
  },
  {
   "cell_type": "code",
   "execution_count": null,
   "metadata": {},
   "outputs": [],
   "source": [
    "# Una lista con cuatro números enteros\n",
    "lista_enteros = [30, 10, 40, 20]\n",
    "print(lista_enteros)\n",
    "\n",
    "# Una lista vacía\n",
    "lista_vacia = []\n",
    "\n",
    "# Una lista de str\n",
    "puntos_cardinales = [\"Norte\", \"Sur\", \"Este\", \"Oeste\"]\n",
    "print(puntos_cardinales)\n",
    "\n",
    "# Una lista de float\n",
    "numeros_magicos = [3.14, 1.41, 5.25, 3.5]\n",
    "print(numeros_magicos)"
   ]
  },
  {
   "cell_type": "markdown",
   "metadata": {},
   "source": [
    "Las listas también pueden contener elementos de distintos tipos de datos:"
   ]
  },
  {
   "cell_type": "code",
   "execution_count": null,
   "metadata": {},
   "outputs": [],
   "source": [
    "# Una lista que ammacena los datos de un empleado. Empleado = [nombre, edad, talla, tiene_licencia].  \n",
    "empleado = [\"Andres Lopez\", 26, 1.78, True]    \n",
    "print(empleado)"
   ]
  },
  {
   "cell_type": "markdown",
   "metadata": {},
   "source": [
    "Las listas pueden, incluso, contener otras listas:"
   ]
  },
  {
   "cell_type": "code",
   "execution_count": null,
   "metadata": {},
   "outputs": [],
   "source": [
    "empleados_del_mes = [\n",
    "    [\"Andres Lopez\", 26, 1.78, True],\n",
    "    [\"Juana Jimenez\", 31, 1.69, False],\n",
    "    [\"Raul Chu\", 29, 1.71, True]\n",
    "]\n",
    "\n",
    "print(empleados_del_mes)"
   ]
  },
  {
   "cell_type": "markdown",
   "metadata": {},
   "source": [
    "#### 5.1.1 Acceder a los elementos de una lista\n",
    "Para acceder a un elemento de la lista lo hacemos por medio del índice o posición que ocupa en la lista.  El primer elemento de la lista siempre ocupa la posición 0. "
   ]
  },
  {
   "cell_type": "code",
   "execution_count": null,
   "metadata": {},
   "outputs": [],
   "source": [
    "empleados_del_mes = [\n",
    "    [\"Andres Lopez\", 26, 1.78, True],   # posición 0\n",
    "    [\"Juana Jimenez\", 31, 1.69, False], # posición 1\n",
    "    [\"Raul Chu\", 29, 1.71, True]        # posición 2\n",
    "]\n",
    "\n",
    "print(empleados_del_mes[1])     # Imprime el elemento de la lita ubicado en la posicion 1"
   ]
  },
  {
   "cell_type": "markdown",
   "metadata": {},
   "source": [
    "Podemos acceder a los elementos de la lista empezando el final si usamos indices negativos "
   ]
  },
  {
   "cell_type": "code",
   "execution_count": null,
   "metadata": {},
   "outputs": [],
   "source": [
    "empleados_del_mes = [\n",
    "    [\"Andres Lopez\", 26, 1.78, True],   # posición -3\n",
    "    [\"Juana Jimenez\", 31, 1.69, False], # posición -2\n",
    "    [\"Raul Chu\", 29, 1.71, True]        # posición -1\n",
    "]\n",
    "\n",
    "print(empleados_del_mes[-1])     # Imprime el elemento ubicado en la última posición de la lista"
   ]
  },
  {
   "cell_type": "markdown",
   "metadata": {},
   "source": [
    "Si usamos un índice o posición inválidas, Python nos devuelve un `IndexError`:"
   ]
  },
  {
   "cell_type": "code",
   "execution_count": null,
   "metadata": {},
   "outputs": [],
   "source": [
    "empleados_del_mes = [\n",
    "    [\"Andres Lopez\", 26, 1.78, True],   # posición 0 / -3\n",
    "    [\"Juana Jimenez\", 31, 1.69, False], # posición 1 / -2\n",
    "    [\"Raul Chu\", 29, 1.71, True]        # posición 2 / -1\n",
    "]\n",
    "\n",
    "print(empleados_del_mes[3])     # IndexError, ya que no hay ningun elemento en la lista que ocupe la posición 3\n",
    "print(empleados_del_mes[-4])    # IndexError, ya que no hay ningun elemento en la lista que ocupe la posición -4"
   ]
  },
  {
   "cell_type": "markdown",
   "metadata": {},
   "source": [
    "A veces necesitaremos acceder a un rango de elementos de una lista en lugar de a un único elemento.  Para hacer esto indicaremos los indices del primer y del último elemento del rango, siguiendo la siguiente forma:\n",
    "\n",
    "`lista[inicio : fin]`\n",
    "\n",
    "**Nota**: Los rangos en Python son siempre cerrados por la izquierda y abiertos por la derecha. Esto quiere decir que al valor de indice  que indiquemos como \"fin\", Python siempre le restará uno."
   ]
  },
  {
   "cell_type": "code",
   "execution_count": null,
   "metadata": {},
   "outputs": [],
   "source": [
    "letras = [\"A\", \"B\", \"C\", \"D\", \"E\", \"F\", \"G\", \"H\"]\n",
    "\n",
    "print(letras[2 : 5])    # [\"C\", \"D\", \"E\"]  <- Índices del 2 al 4 (al 5 le resta 1)\n",
    "print(letras[5 : 2])    # []               <- Si inicio > fin, devuelve sublista vacía\n",
    "\n",
    "print(letras[4 :  ])    # [\"E\", \"F\", \"G\", \"H\"]  <- Todos los elementos a partir de la índice 3 en adelante\n",
    "\n",
    "print(letras[  : 3])    # [\"A\", \"B\", \"C\"]   <- Todos los elementos hasta el indice 2 (al 3 se le resta 1) \n",
    "print(letras[-3 : ])    # [\"F\", \"G\", \"H\"]   <- Todos los elementos a partir de la índice -3 en adelante"
   ]
  },
  {
   "cell_type": "markdown",
   "metadata": {},
   "source": [
    "#### 5.1.2 Agregar, modificar y quitar elementos de una lista\n",
    "Para agregar elementos al final de una lista, usamos la funcion `append()`:"
   ]
  },
  {
   "cell_type": "code",
   "execution_count": null,
   "metadata": {},
   "outputs": [],
   "source": [
    "animales = [\"perro\", \"gato\"]\n",
    "animales.append(\"raton\")\n",
    "\n",
    "print(animales)     # [\"perro\", \"gato\", \"raton\"]"
   ]
  },
  {
   "cell_type": "markdown",
   "metadata": {},
   "source": [
    "Para insertar elementos en una posicion especifica de una lista, usamos la funcion `insert()`:"
   ]
  },
  {
   "cell_type": "code",
   "execution_count": null,
   "metadata": {},
   "outputs": [],
   "source": [
    "animales = [\"perro\", \"gato\", \"raton\"]\n",
    "animales.insert(1, \"canario\")   # Inserta 'canario' en la posicion 1 de la lista (delante de 'gato')\n",
    "\n",
    "print(animales)     # [\"perro\", \"canario\", \"gato\", \"raton\"]"
   ]
  },
  {
   "cell_type": "markdown",
   "metadata": {},
   "source": [
    "Para modificar un elemento de una lista simplemente le asignamos un nuevo valor a la posición que deseamos modificar:"
   ]
  },
  {
   "cell_type": "code",
   "execution_count": null,
   "metadata": {},
   "outputs": [],
   "source": [
    "animales = [\"perro\", \"gato\", \"raton\"]\n",
    "animales[1] = \"gallina\"     # Cambiamos 'gato' por 'gallina'\n",
    "\n",
    "print(animales)     # [\"perro\", \"gallina\", \"raton\"]"
   ]
  },
  {
   "cell_type": "markdown",
   "metadata": {},
   "source": [
    "Para quitar un elemento de la lista usamos la funcion `remove()`:"
   ]
  },
  {
   "cell_type": "code",
   "execution_count": null,
   "metadata": {},
   "outputs": [],
   "source": [
    "animales = [\"perro\", \"gato\", \"raton\"]\n",
    "animales.remove(\"gato\")    # Quitamos 'gato' de la lista\n",
    "\n",
    "print(animales)     # [\"perro\", \"raton\"]"
   ]
  },
  {
   "cell_type": "markdown",
   "metadata": {},
   "source": [
    "Tomar en cuenta que `remove()` solamente quita la primera ocurrencia de un elemento en la lista."
   ]
  },
  {
   "cell_type": "code",
   "execution_count": null,
   "metadata": {},
   "outputs": [],
   "source": [
    "animales = [\"perro\", \"gato\", \"raton\", \"gato\", \"conejo\"] \n",
    "animales.remove(\"gato\")    # Quitamos la primera ocurrencia de 'gato' de la lista \n",
    "\n",
    "print(animales)     # ['perro', 'raton', 'gato', 'conejo']"
   ]
  },
  {
   "cell_type": "markdown",
   "metadata": {},
   "source": [
    "Para quitar un elemento en base a su índice o posición en la lista, usamos la función `pop()`:"
   ]
  },
  {
   "cell_type": "code",
   "execution_count": null,
   "metadata": {},
   "outputs": [],
   "source": [
    "animales = [\"perro\", \"gato\", \"raton\", \"canario\", \"conejo\"] \n",
    "\n",
    "animales.pop(2)  # Quitamos el elemento en la posición 2 ('raton')  \n",
    "print(animales)  # [\"perro\", \"gato\", \"canario\", \"conejo\"]\n",
    "\n",
    "animales.pop()   # Cuando no se especifica un indice, Python quita el último elemento de la lista\n",
    "print(animales)  # [\"perro\", \"gato\", \"canario\"]"
   ]
  },
  {
   "cell_type": "markdown",
   "metadata": {},
   "source": [
    "#### 5.1.3 Recorrer los elementos de una lista\n",
    "La forma más sencilla e intuitiva para recorrer los elementos de una lista es usar la sentencia `for-in`:"
   ]
  },
  {
   "cell_type": "code",
   "execution_count": null,
   "metadata": {},
   "outputs": [],
   "source": [
    "animales = [\"perro\", \"gato\", \"raton\", \"canario\", \"conejo\"] \n",
    "\n",
    "# Recorremos todos los elementos de la lista\n",
    "for animal in animales:\n",
    "\n",
    "    # En cada iteración la variable 'animal' toma un valor de la lista.\n",
    "    print(animal)"
   ]
  },
  {
   "cell_type": "markdown",
   "metadata": {},
   "source": [
    "Podemos también hacer uso de la funcion auxiliar `enumerate()` para enumear los elementos de una lista.  Ej:"
   ]
  },
  {
   "cell_type": "code",
   "execution_count": null,
   "metadata": {},
   "outputs": [],
   "source": [
    "animales = [\"perro\", \"gato\", \"raton\", \"canario\", \"conejo\"] \n",
    "\n",
    "# Recorremos todos los elementos de la lista\n",
    "for n, animal in enumerate(animales, start=1):\n",
    "\n",
    "    # En cada iteración la variable 'animal' toma un valor de la lista \n",
    "    # y \"n\" el numero de orden de dicho valor (empezando por 1)\n",
    "    print(n, animal)"
   ]
  },
  {
   "cell_type": "markdown",
   "metadata": {},
   "source": [
    "#### 5.1.4 Obtener el tamaño de una lista\n",
    "Para obtener el tamaño de una lista, es decir, cuántos elementos contiene dicha lista, usamos la función `len()`:"
   ]
  },
  {
   "cell_type": "code",
   "execution_count": null,
   "metadata": {},
   "outputs": [],
   "source": [
    "animales = [\"perro\", \"gato\", \"raton\", \"canario\", \"conejo\"] \n",
    "\n",
    "print(len(animales))    # imprime 5"
   ]
  },
  {
   "cell_type": "markdown",
   "metadata": {},
   "source": [
    "#### 5.1.5 Otras operaciones con listas\n",
    "\n",
    "#### Invertir una Lista\n",
    "Para invertir el orden de los elementos de una lista, usamos la función `reverse()`:"
   ]
  },
  {
   "cell_type": "code",
   "execution_count": null,
   "metadata": {},
   "outputs": [],
   "source": [
    "meses = [\"Enero\", \"Febrero\", \"Marzo\", \"Abril\", \"Mayo\"] \n",
    "\n",
    "print(\"Original:\", meses)    \n",
    "\n",
    "# invertimos la lista\n",
    "meses.reverse()\n",
    "\n",
    "print(\"Invertida:\", meses)"
   ]
  },
  {
   "cell_type": "markdown",
   "metadata": {},
   "source": [
    "#### Ordenar una lista\n",
    "Para ordenar una lista, usamos la función `sort()`:"
   ]
  },
  {
   "cell_type": "code",
   "execution_count": null,
   "metadata": {},
   "outputs": [],
   "source": [
    "edades = [34, 12, 5, 78, 23, 21, 11, 32] \n",
    "\n",
    "print(\"Original:\", edades)    \n",
    "\n",
    "# Ordenamos la lista \n",
    "edades.sort()\n",
    "\n",
    "print(\"Ordenada:\", edades)"
   ]
  },
  {
   "cell_type": "markdown",
   "metadata": {},
   "source": [
    "Si quieremos hacer que ordene de mayor a menor, le pasamos el argumento `reverse=True` a la función `sort()`:"
   ]
  },
  {
   "cell_type": "code",
   "execution_count": null,
   "metadata": {},
   "outputs": [],
   "source": [
    "edades = [34, 12, 5, 78, 23, 21, 11, 32] \n",
    "\n",
    "print(\"Original:\", edades)    \n",
    "\n",
    "# Ordenamos la lista (de mayor a menor)\n",
    "edades.sort(reverse=True)\n",
    "\n",
    "print(\"Ordenada:\", edades)"
   ]
  },
  {
   "cell_type": "markdown",
   "metadata": {},
   "source": [
    "Los strings se ordenan de manera lexicográfica como es de esperar:"
   ]
  },
  {
   "cell_type": "code",
   "execution_count": null,
   "metadata": {},
   "outputs": [],
   "source": [
    "nombres = [\"Hugo\", \"Paco\", \"Luis\", \"Donald\", \"Pluto\", \"Mickey\"] \n",
    "\n",
    "print(\"Original:\", nombres)    \n",
    "\n",
    "# Ordenamos la lista\n",
    "nombres.sort()\n",
    "\n",
    "print(\"Ordenada:\", nombres)     # ['Donald', 'Hugo', 'Luis', 'Mickey', 'Paco', 'Pluto']"
   ]
  },
  {
   "cell_type": "markdown",
   "metadata": {},
   "source": [
    "Veámos que pasa si cambiamos algunas mayúsculas por minúsculas:"
   ]
  },
  {
   "cell_type": "code",
   "execution_count": null,
   "metadata": {},
   "outputs": [],
   "source": [
    "nombres = [\"Hugo\", \"Paco\", \"Luis\", \"donald\", \"pluto\", \"mickey\"] \n",
    "\n",
    "print(\"Original:\", nombres)     # ['Hugo', 'Paco', 'Luis', 'donald', 'pluto', 'mickey']\n",
    "\n",
    "# Ordenamos la lista\n",
    "nombres.sort()\n",
    "\n",
    "print(\"Ordenada:\", nombres)     # ['Hugo', 'Luis', 'Paco', 'donald', 'mickey', 'pluto']"
   ]
  },
  {
   "cell_type": "markdown",
   "metadata": {},
   "source": [
    "Nótese como aquellos strings que inician con mayúsculas se colocan al inicio de la lista mientras que los iniciados con minuscula se colocan al final.  Esto es por que lexicográficamente, las letras mayúsculas tienen precedencia sobre las minúsculas:"
   ]
  },
  {
   "cell_type": "code",
   "execution_count": null,
   "metadata": {},
   "outputs": [],
   "source": [
    "nombres = [\"aaa\", \"BBB\", \"ccc\", \"CCC\", \"bbb\", \"AAA\"] \n",
    "\n",
    "print(\"Original:\", nombres)    \n",
    "\n",
    "# Ordenamos la lista\n",
    "nombres.sort()\n",
    "\n",
    "print(\"Ordenada:\", nombres)     # ['AAA', 'BBB', 'CCC', 'aaa', 'bbb', 'ccc']"
   ]
  },
  {
   "cell_type": "markdown",
   "metadata": {},
   "source": [
    "Cuando tratamos de ordenar una lista que no contiene elementos con tipos compatibles entre si, arrojará un `TypeError`:"
   ]
  },
  {
   "cell_type": "code",
   "execution_count": null,
   "metadata": {},
   "outputs": [],
   "source": [
    "nombres = [12, \"Julio\", 5.7, True] \n",
    "\n",
    "print(\"Original:\", nombres)    \n",
    "\n",
    "# Ordenamos la lista  (arrojará un \"TypeError\")\n",
    "nombres.sort()     \n",
    "\n",
    "print(\"Ordenada:\", nombres)"
   ]
  },
  {
   "cell_type": "markdown",
   "metadata": {},
   "source": [
    "Vemos que arroja un error pues los `int` y los `float` no son compatibles con los `str`.   Sin embargo, si la lista contiene elementos compatibles (aunque sean de distinto tipo de dato), el ordenamiento si es posible:"
   ]
  },
  {
   "cell_type": "code",
   "execution_count": null,
   "metadata": {},
   "outputs": [],
   "source": [
    "nombres = [12, 5.7, False, 45, True, 0.9] \n",
    "\n",
    "print(\"Original:\", nombres)    \n",
    "\n",
    "# Ordenamos la lista  \n",
    "nombres.sort()     \n",
    "\n",
    "print(\"Ordenada:\", nombres)     # [False, 0.9, True, 5.7, 12, 45]"
   ]
  },
  {
   "cell_type": "markdown",
   "metadata": {},
   "source": [
    "En este caso vemos que los `int` y los `float` al ser comparables entre sí pueden ordenarse en la misma lista.  Incluso los datos de tipo `boolean` pueden ordenarse, pues para ellos se considera `True` como 1 y `False` como 0."
   ]
  },
  {
   "cell_type": "markdown",
   "metadata": {},
   "source": [
    "#### Copiar una lista\n",
    "En algunas ocasiones queremos generar la copia de una lista, ya sea por que queremos preservar la original u por algún otro motivo.  Uno podría tentarse a hacer lo siguiente:"
   ]
  },
  {
   "cell_type": "code",
   "execution_count": null,
   "metadata": {},
   "outputs": [],
   "source": [
    "original = [2, 4, 6, 8, 10]\n",
    "copia = original\n",
    "\n",
    "print(\"Orignal: \", original)\n",
    "print(\"Copia: \", copia)"
   ]
  },
  {
   "cell_type": "markdown",
   "metadata": {},
   "source": [
    "Ahora que tenemos una copia del original (o al menos eso creemos), podemos trabajar en la copia sin miedo a alterar el original:"
   ]
  },
  {
   "cell_type": "code",
   "execution_count": null,
   "metadata": {},
   "outputs": [],
   "source": [
    "# Modificamos el segundo elemento de la copia\n",
    "copia[1] = 100\n",
    "\n",
    "print(\"Orignal: \", original)    # [2, 100, 6, 8, 10]\n",
    "print(\"Copia: \", copia)         # [2, 100, 6, 8, 10]"
   ]
  },
  {
   "cell_type": "markdown",
   "metadata": {},
   "source": [
    "Podemos ver que al modificar copia, estamos tambien modificando el original.  Esto ocurre por que realmente ambas variables original y copia, están referenciando a la misma lista.  Cualquier cambio que se haga con una se verá reflejado en la otra.\n",
    "\n",
    "Para tener realmente una copia (es decir una segunda lista identica a la primera), debemos usar la función `copy()`:"
   ]
  },
  {
   "cell_type": "code",
   "execution_count": null,
   "metadata": {},
   "outputs": [],
   "source": [
    "original = [2, 4, 6, 8, 10]\n",
    "copia = original.copy()   # Creamos una nueva lista que es una copia del original\n",
    "\n",
    "# Ahora podemos modificar copia, sin alterar el original\n",
    "copia[1] = 100\n",
    "\n",
    "print(\"Orignal: \", original)    # [2, 4, 6, 8, 10]\n",
    "print(\"Copia: \", copia)         # [2, 100, 6, 8, 10]"
   ]
  },
  {
   "cell_type": "code",
   "execution_count": null,
   "metadata": {},
   "outputs": [],
   "source": []
  }
 ],
 "metadata": {
  "kernelspec": {
   "display_name": "venv",
   "language": "python",
   "name": "python3"
  },
  "language_info": {
   "codemirror_mode": {
    "name": "ipython",
    "version": 3
   },
   "file_extension": ".py",
   "mimetype": "text/x-python",
   "name": "python",
   "nbconvert_exporter": "python",
   "pygments_lexer": "ipython3",
   "version": "3.11.2"
  }
 },
 "nbformat": 4,
 "nbformat_minor": 2
}
