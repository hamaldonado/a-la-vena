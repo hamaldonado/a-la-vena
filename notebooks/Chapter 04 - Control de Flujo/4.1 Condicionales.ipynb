{
 "cells": [
  {
   "cell_type": "markdown",
   "metadata": {},
   "source": [
    "## **4. Control de Flujo**\n",
    "\n",
    "### **4.1. Condicionales**\n",
    "\n",
    "#### **4.1.1 Sentencia `if`**\n",
    "\n",
    "``` python\n",
    "if [condición]:  \n",
    "    sentencia_1\n",
    "    sentencia_2\n",
    "```\n",
    "\n",
    "* Si _condición_ es verdadera, se ejecutarán sentencia_1 y sentencia_2\n",
    "\n",
    "Ej:"
   ]
  },
  {
   "cell_type": "code",
   "execution_count": null,
   "metadata": {},
   "outputs": [],
   "source": [
    "a = 24\n",
    "\n",
    "if a % 2 == 0:\n",
    "    print(\"'a' es par\")"
   ]
  },
  {
   "cell_type": "markdown",
   "metadata": {},
   "source": [
    "**Sentencia `if-else`**\n",
    "\n",
    "``` python\n",
    "if [condición]:\n",
    "    sentencia_1\n",
    "    sentencia_2\n",
    "else:\n",
    "    sentencia_3\n",
    "    sentencia_4\n",
    "```\n",
    "\n",
    "* Si _condición_ es verdadera, se ejecutaran _sentencia_1_ y _sentencia_2_.  \n",
    "* Si _condición_ no es verdadera, se ejecutaran _sentencia_3_ y _sentencia_4_"
   ]
  },
  {
   "cell_type": "code",
   "execution_count": null,
   "metadata": {},
   "outputs": [],
   "source": [
    "a = -5\n",
    "\n",
    "if a >= 0:\n",
    "    print(\"'a' es positvo\")\n",
    "else:\n",
    "    print(\"'a' es negativo\")"
   ]
  },
  {
   "cell_type": "markdown",
   "metadata": {},
   "source": [
    "**Sentencia `if-elif-else`**\n",
    "\n",
    "``` python\n",
    "if [condición_1]:\n",
    "    sentencia_1\n",
    "    sentencia_2\n",
    "elif [condición_2]:\n",
    "    sentencia_3\n",
    "    sentencia_4\n",
    "else:\n",
    "    sentencia_5\n",
    "    sentencia_6\n",
    "```\n",
    "\n",
    "* Si _condición_1_ es verdadera, se ejecutarán _sentencia_1_ y _sentencia_2_.  \n",
    "* Si _condición_1_ no es verdadera, se evalua si _condicion_2_ es verdadera.  \n",
    "* Si _condición_2_ es verdadera, se ejecutarán _sentencia_3_ y _sentencia_4_.  \n",
    "* Si _condición_2_ no es verdadera, se ejecutarán _sentencia_5_ y _sentencia_6_"
   ]
  },
  {
   "cell_type": "code",
   "execution_count": null,
   "metadata": {},
   "outputs": [],
   "source": [
    "edad = 10\n",
    "\n",
    "if edad >= 18:\n",
    "    print(\"Adultez\")\n",
    "\n",
    "elif edad >= 12 and edad < 18:\n",
    "    print(\"Adolescencia\")\n",
    "\n",
    "elif edad >= 6 and edad < 12:\n",
    "    print(\"Niñez\")\n",
    "\n",
    "elif edad >= 0 and edad < 5:\n",
    "    print(\"Primera infancia\")\n",
    "\n",
    "else:\n",
    "    print(\"Edad inválida\")"
   ]
  },
  {
   "cell_type": "markdown",
   "metadata": {},
   "source": [
    "#### **4.1.2. Sentencia `match-case`**\n",
    "\n",
    "**Nota**: Disponible a partir de Python 3.10\n",
    "\n",
    "``` Python\n",
    "match variable:\n",
    "    case valor_1:\n",
    "        sentencia_1\n",
    "    \n",
    "    case valor_2:\n",
    "        sentencia_2\n",
    "\n",
    "    case valor_3:\n",
    "        sentencia_3\n",
    "\n",
    "    case _:\n",
    "        sentencia_4\n",
    "```\n",
    "\n",
    "* Compara el valor de variable en `match` con cada uno de los valores en `case` y ejecuta las sentencias donde hay coincidencia.\n",
    "* Si no hay coincidencias, por defecto se ejecuta las sentencias en `case _:` "
   ]
  },
  {
   "cell_type": "code",
   "execution_count": null,
   "metadata": {},
   "outputs": [],
   "source": [
    "print(\"MENU:\")\n",
    "print(\"===\")\n",
    "print(\"1. Lomo saltado\")\n",
    "print(\"2. Arroz con pollo\")\n",
    "print(\"3. Tacu tacu a lo pobre\")\n",
    "print(\"===\")\n",
    "\n",
    "opcion = input(\"¿Qué deseas comer hoy?\")\n",
    "\n",
    "match opcion:\n",
    "\n",
    "    case \"1\":\n",
    "        print(\"Preparando Lomo saltado..\")\n",
    "\n",
    "    case \"2\":\n",
    "        print(\"Preparando Arroz con pollo..\")\n",
    "\n",
    "    case \"3\":\n",
    "        print(\"Preparando Tacu tacu a lo pobre..\")\n",
    "\n",
    "    case _:\n",
    "        print(\"Lo siento, no tenemmos eso en el menu.\")"
   ]
  }
 ],
 "metadata": {
  "kernelspec": {
   "display_name": "venv",
   "language": "python",
   "name": "python3"
  },
  "language_info": {
   "codemirror_mode": {
    "name": "ipython",
    "version": 3
   },
   "file_extension": ".py",
   "mimetype": "text/x-python",
   "name": "python",
   "nbconvert_exporter": "python",
   "pygments_lexer": "ipython3",
   "version": "3.11.2"
  }
 },
 "nbformat": 4,
 "nbformat_minor": 2
}
