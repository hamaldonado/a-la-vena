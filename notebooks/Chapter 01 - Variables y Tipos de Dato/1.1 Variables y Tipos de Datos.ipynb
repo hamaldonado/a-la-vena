{
 "cells": [
  {
   "cell_type": "markdown",
   "metadata": {},
   "source": [
    "## 1. Entrada y Salida Básica\n",
    "* `print()`: Imprime en la salida estándar (pantalla)\n",
    "* `input()`: Lee un valor desde la entrada estándar (teclado)\n",
    "\n",
    "Ej:"
   ]
  },
  {
   "cell_type": "code",
   "execution_count": null,
   "metadata": {},
   "outputs": [],
   "source": [
    "print(\"Buen dia! Como te llamas?\")\n",
    "nombre = input()\n",
    "print(\"Hola \" + nombre)"
   ]
  },
  {
   "cell_type": "markdown",
   "metadata": {},
   "source": [
    "## 2. Variables y Tipos de Datos\n",
    "### 2.1. Variables\n",
    "Se usan para almacenar datos en memoria.\n",
    "\n",
    "Ej:"
   ]
  },
  {
   "cell_type": "code",
   "execution_count": null,
   "metadata": {},
   "outputs": [],
   "source": [
    "nombre = \"Harry\"\n",
    "edad = 15\n",
    "estatura = 1.72\n",
    "es_estudiante = True\n",
    "\n",
    "print(nombre)\n",
    "print(edad)\n",
    "print(estatura)\n",
    "print(es_estudiante)"
   ]
  },
  {
   "cell_type": "markdown",
   "metadata": {},
   "source": [
    "### 2.2. Tipos de datos base\n",
    "\n",
    "Los tipos de datos base en Python son:\n",
    "\n",
    "* `str`   (ej: `nombre = \"Harry\"`)   \n",
    "* `int`   (ej: `edad = 15`)\n",
    "* `float` (ej: `estatura = 1.72`)\n",
    "* `bool`  (ej: `es_estudiante = True`)\n",
    "\n",
    "#### La función `type()`\n",
    "*`type()`: retorna el tipo de una variable"
   ]
  },
  {
   "cell_type": "code",
   "execution_count": null,
   "metadata": {},
   "outputs": [],
   "source": [
    "nombre = \"Harry\"              # \"Harry\" es texto (o cadena de caracteres). En consecuencia la variable 'nombre' es del tipo str.\n",
    "edad = 15                     # 15 es un número entero.  En consecuencia, la variable 'edad' es del tipo int. \n",
    "estatura = 1.72               # 1.72 es un número de punto flotante.  En consecuencia, la variable 'estatura' es del tipo float. \n",
    "es_estudiante = True          # True es un valor booleno.  En consecuencia, la variable 'es_estudiante' es del tipo bool.\n",
    "\n",
    "print(type(nombre))           # str\n",
    "print(type(edad))             # int \n",
    "print(type(estatura))         # float\n",
    "print(type(es_estudiante))    # bool"
   ]
  },
  {
   "cell_type": "markdown",
   "metadata": {},
   "source": [
    "#### Para tomar en cuenta:\n",
    "Python es un lenguaje _**\"dynamically typed\"**_.  Esto quiere decir que el tipo de cada variable es inferido en tiempo de ejecución en función de su valor.  Gracias a esto, en Python no es necesario declarar explicitamente el tipo de dato de cada variable el código."
   ]
  },
  {
   "cell_type": "markdown",
   "metadata": {},
   "source": [
    "#### El tipo `None`\n",
    "`None` es un tipo de datos especial que sólo puede albergar un único valor: `None`.   Se usa para representar la ausencia de un valor. \n",
    "\n",
    "A veces podemos necesitaremos definir una variable de la que que aún no sabemos cual será su valor final.  En dichos casos podemos asignarle `None`.  "
   ]
  },
  {
   "cell_type": "code",
   "execution_count": null,
   "metadata": {},
   "outputs": [],
   "source": [
    "# Una variable que mas adelante tendra algun valor, pero por el momento lo desconocemos\n",
    "nombre = None\n",
    "\n",
    "print(nombre)           # None\n",
    "print(type(nombre))     # NoneType"
   ]
  },
  {
   "cell_type": "markdown",
   "metadata": {},
   "source": [
    "### 2.3. Comentarios\n",
    "\n",
    "Para agregar comentarios en el codigo de Python, se se utiliza el caracter almohadilla (#).\n",
    "\n",
    "Ej:"
   ]
  },
  {
   "cell_type": "code",
   "execution_count": null,
   "metadata": {},
   "outputs": [],
   "source": [
    "# Este es un comentario de una sola línea. \n",
    "\n",
    "# Si se necesita incorporar comentarios de más de una línea, se debe agregar \n",
    "# la almohadilla (#) al inicio de cada una de las lineas que compone el \n",
    "# comentario\n",
    "\n",
    "\"\"\"\n",
    "Esta es otra forma alternativa de uso común para comentarios de multiples\n",
    "lineas.  Se consigue delimitando el texto entre comillas triples.  Esto \n",
    "realmente no se trata de un comentario sino de una cadena de caracteres de \n",
    "múltiples lineas.  Sin embargo, al no estar esta cadena asignada a ninguna \n",
    "variable, Python simplemente la pasa por alto. Interesante, no?\n",
    "\"\"\""
   ]
  }
 ],
 "metadata": {
  "kernelspec": {
   "display_name": "venv",
   "language": "python",
   "name": "python3"
  },
  "language_info": {
   "codemirror_mode": {
    "name": "ipython",
    "version": 3
   },
   "file_extension": ".py",
   "mimetype": "text/x-python",
   "name": "python",
   "nbconvert_exporter": "python",
   "pygments_lexer": "ipython3",
   "version": "3.11.2"
  }
 },
 "nbformat": 4,
 "nbformat_minor": 2
}
