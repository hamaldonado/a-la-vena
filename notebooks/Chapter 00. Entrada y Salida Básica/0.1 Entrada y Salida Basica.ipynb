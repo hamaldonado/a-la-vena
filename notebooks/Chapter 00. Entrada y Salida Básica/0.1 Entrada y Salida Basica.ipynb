{
 "cells": [
  {
   "cell_type": "markdown",
   "metadata": {},
   "source": [
    "## 0. Entrada y Salida Básica\n",
    "### 0.1 Imprimir en pantalla\n",
    "Para imprimir valores en la pantalla, usamos la instrucción `print()`\n",
    "\n",
    "* `print(valor)`: Imprime _valor_ en la salida estándar (pantalla)\n",
    "\n",
    "Ej:"
   ]
  },
  {
   "cell_type": "code",
   "execution_count": null,
   "metadata": {},
   "outputs": [],
   "source": [
    "print(\"Hey, ¿qué tal?\")"
   ]
  },
  {
   "cell_type": "markdown",
   "metadata": {},
   "source": [
    "### 0.2 Leer/capturar datos desde el teclado\n",
    "Para leer o capturar datos desde el teclado usamos la instrucción input()\n",
    "\n",
    "* `e = input()`: Lee un valor desde la entrada estándar (teclado) y lo almacena en la variable 'e'\n",
    "\n",
    "Ej:"
   ]
  },
  {
   "cell_type": "code",
   "execution_count": null,
   "metadata": {},
   "outputs": [],
   "source": [
    "print(\"Buen dia! Como te llamas?\")\n",
    "nombre = input()\n",
    "print(\"Hola \" + nombre)"
   ]
  },
  {
   "cell_type": "markdown",
   "metadata": {},
   "source": [
    "### **0.3 Controlando el terminal (Secuencias de Escape)**\n",
    "Cuando trabajamos directamente en el terminal, tenemos la posibilidad de usar secuencias de escape, que nos permiten controlar algunos aspectos del formato con el que se prsenta el texto que mostramos en el.  Algunas de estas caracteristicas incluyen color de primer plano, color de fondo, negrita, cursiva, subrayado, parpadeo y video invertido.   \n",
    "\n",
    "Es importante notar que esta no es una característica de Python en sí, sino más bien del Terminal sobre el que se trabaje.  Algunas caracteristicas pueden verse distintas dependiendo del Terminal que se use.\n",
    "\n",
    "Para usar una secuencia de escape debemos simplemente ponerla delante del texto que queremos mostrar.  Por ejemplo, la secuencia de escape que permite controlar el color de un texto es `\"\\033[nm\"` donde 'n' es el codigo de color."
   ]
  },
  {
   "cell_type": "code",
   "execution_count": 5,
   "metadata": {},
   "outputs": [
    {
     "name": "stdout",
     "output_type": "stream",
     "text": [
      "\u001b[31mEste texto es rojo\n",
      "\u001b[32mEste texto es verdadero\n",
      "\u001b[33mEste texto es amarillo\n",
      "\u001b[0mEste texto es de color normal\n"
     ]
    }
   ],
   "source": [
    "print(\"\\033[31mEste texto es de color rojo\")        # Codigo de color rojo = 31\n",
    "print(\"\\033[32mEste texto es de color verde\")       # Código de color verde = 32\n",
    "print(\"\\033[33mEste texto es de color amarillo\")    # Código de color amarillo = 33\n",
    "print(\"\\033[0mEste texto es de color normal\")       # Código de reinicio de formato = 0"
   ]
  },
  {
   "cell_type": "markdown",
   "metadata": {},
   "source": [
    "La secuencia de escape `\"\\033[nm\"` además de ajustar el color, permite ajustar ciertos tipos de formato.  Por ejemplo:"
   ]
  },
  {
   "cell_type": "code",
   "execution_count": 11,
   "metadata": {},
   "outputs": [
    {
     "name": "stdout",
     "output_type": "stream",
     "text": [
      "\u001b[3mEste texto es cursiva\n",
      "\u001b[0m\n",
      "\u001b[4mEste texto esta subrayado\n",
      "\u001b[0m\n",
      "\u001b[7mEste texto es de color amarillo\n",
      "\u001b[0m\n",
      "\u001b[9mEste texto es de color normal\n",
      "\u001b[0m\n"
     ]
    }
   ],
   "source": [
    "print(\"\\033[3mEste texto está en cursiva\")      # Codigo de cursiva = 3\n",
    "print(\"\\033[0m\")\n",
    "\n",
    "print(\"\\033[4mEste texto está subrayado\")       # Código de subrayado = 4\n",
    "print(\"\\033[0m\")\n",
    "\n",
    "print(\"\\033[9mEste texto está tachado\")         # Código de tachado = 9\n",
    "print(\"\\033[0m\")\n"
   ]
  },
  {
   "cell_type": "markdown",
   "metadata": {},
   "source": [
    "Una lista completa de secuencias de escape se pueden encontrar en https://en.wikipedia.org/wiki/ANSI_escape_code"
   ]
  }
 ],
 "metadata": {
  "kernelspec": {
   "display_name": "venv",
   "language": "python",
   "name": "python3"
  },
  "language_info": {
   "codemirror_mode": {
    "name": "ipython",
    "version": 3
   },
   "file_extension": ".py",
   "mimetype": "text/x-python",
   "name": "python",
   "nbconvert_exporter": "python",
   "pygments_lexer": "ipython3",
   "version": "3.11.2"
  }
 },
 "nbformat": 4,
 "nbformat_minor": 2
}
