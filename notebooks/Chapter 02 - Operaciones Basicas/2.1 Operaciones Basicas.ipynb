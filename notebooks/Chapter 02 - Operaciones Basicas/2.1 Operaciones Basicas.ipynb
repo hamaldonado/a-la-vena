{
 "cells": [
  {
   "cell_type": "markdown",
   "metadata": {},
   "source": [
    "## 2. Operaciones Básicas\n",
    "### 2.1. Operadores Aritméticos\n",
    "\n",
    "* Suma (+):             Ej: `a + b`\n",
    "* Resta (-):            Ej: `a - b`\n",
    "* Multiplicacion (*):   Ej: `a * b`\n",
    "* Division (/):         Ej: `a / b`\n",
    "* Division Entera (//): Ej: `a // b`  -> devuelve el cociente entero de la division entre a y b\n",
    "* Modulo (%):           Ej: `a % b`   -> devuelve el residuo de la division entre a y b\n",
    "* Potencia (**):        Ej: `a ** b`  -> devuelve a elevado a la potencia b"
   ]
  },
  {
   "cell_type": "code",
   "execution_count": null,
   "metadata": {},
   "outputs": [],
   "source": [
    "a = 10 \n",
    "b = 3\n",
    "\n",
    "print(a + b)    # 13\n",
    "print(a - b)    # 7\n",
    "print(a * b)    # 30\n",
    "print(a / b)    # 3.3333...\n",
    "print(a // b)   # 3\n",
    "print(a % b)    # 1\n",
    "print(a ** b)   # 1000"
   ]
  },
  {
   "cell_type": "markdown",
   "metadata": {},
   "source": [
    "#### Consideraciones\n",
    "\n",
    "* Toda operacion dada entre dos `int` siempre retorna otro `int` (excepto la division que siempre retorna un `float`)"
   ]
  },
  {
   "cell_type": "code",
   "execution_count": null,
   "metadata": {},
   "outputs": [],
   "source": [
    "a = 9\n",
    "b = 3\n",
    "\n",
    "print(type(a + b))  # int\n",
    "print(type(a - b))  # int\n",
    "print(type(a * b))  # int\n",
    "print(type(a / b))  # float\n",
    "print(type(a // b)) # int\n",
    "print(type(a % b))  # int\n"
   ]
  },
  {
   "cell_type": "markdown",
   "metadata": {},
   "source": [
    "* Toda operación dada entre un `int` y un `float` siempre retorna un `float`"
   ]
  },
  {
   "cell_type": "code",
   "execution_count": null,
   "metadata": {},
   "outputs": [],
   "source": [
    "a = 9\n",
    "b = 3.0\n",
    "\n",
    "print(type(a + b))  # float (a + b = 12.0)\n",
    "print(type(a - b))  # float (a - b = 6.0)\n",
    "print(type(a * b))  # float (a * b = 27.0)\n",
    "print(type(a / b))  # float (a / b = 3.0)\n",
    "print(type(a // b)) # float (a // b = 3.0)\n",
    "print(type(a % b))  # float (a % b = 0.0)\n",
    "\n",
    "print(a % b)"
   ]
  },
  {
   "cell_type": "markdown",
   "metadata": {},
   "source": [
    "* Es posible operar un `int` o un `float` con un `bool`.  En este caso el valor `bool` se considerará como un `int` (`True = 1`, `False = 0`)"
   ]
  },
  {
   "cell_type": "code",
   "execution_count": null,
   "metadata": {},
   "outputs": [],
   "source": [
    "a = 9\n",
    "b = True\n",
    "\n",
    "print(a + b)    # 10\n",
    "print(a - b)    # 8\n",
    "\n",
    "\n",
    "a = 9.0  # float\n",
    "b = True\n",
    "\n",
    "print(a + b)    # 10.0\n",
    "print(a - b)    # 8.0"
   ]
  },
  {
   "cell_type": "markdown",
   "metadata": {},
   "source": [
    "* No es posible operar entre un valor numérico (`int`, `float`, `bool`) y un `str`.  Al intentar arrojará un error `TypeError`.  "
   ]
  },
  {
   "cell_type": "code",
   "execution_count": null,
   "metadata": {},
   "outputs": [],
   "source": [
    "a = \"Hola\"\n",
    "b = 3\n",
    "\n",
    "print(a + b)    # TypeError\n",
    "print(a / b)    # TypeError"
   ]
  },
  {
   "cell_type": "markdown",
   "metadata": {},
   "source": [
    "* Excepto cuando.. "
   ]
  },
  {
   "cell_type": "code",
   "execution_count": null,
   "metadata": {},
   "outputs": [],
   "source": [
    "a = \"Hola\"\n",
    "b = 3\n",
    "\n",
    "print(a * b)    # Retorna \"HolaHolaHola\""
   ]
  },
  {
   "cell_type": "markdown",
   "metadata": {},
   "source": [
    "#### Para tomar en cuenta:\n",
    "Python es un lenguaje _**\"strongly typed\"**_.  Esto quiere decir que no permite hacer operaciones sobre dos o más variables cuando los tipos de éstas no son compatibles entre sí.  Esto explica el porqué no es posible, por ejemplo, sumar una variable `int` y una `str`, tal como se vio en un ejemplo anterior.  Si intentamos hacer dicha operación Python nos devolverá un `TypeError`."
   ]
  },
  {
   "cell_type": "markdown",
   "metadata": {},
   "source": [
    "### 2.2. Precedencia en operaciones\n",
    "\n",
    "Para alterar el orden en el que se ejcutan las operaciones, usamos los parentesis"
   ]
  },
  {
   "cell_type": "code",
   "execution_count": null,
   "metadata": {},
   "outputs": [],
   "source": [
    "a = 3 + 5 * 6       # a = 33.  Primero se multiplica 5 * 6 (=30) y luego se suma 3.\n",
    "b = (3 + 5) * 6     # b = 48.  Primero se suma 3 + 5 (=8) y luego se multiplica por 6\n",
    "\n",
    "print(a)    \n",
    "print(b)    "
   ]
  },
  {
   "cell_type": "markdown",
   "metadata": {},
   "source": [
    "### 2.3. Operadores de asignación\n",
    "\n",
    "* asignación (`=`): La expresion `a = b` _asigna_ a la variable `a` el valor actual de `b`\n",
    "\n",
    "Variantes: \n",
    "* asignación y suma (`+=`): La expresion `a += b` _asigna_ a la variable `a`, el valor actual de `a` sumado con el valor de `b`.  Es equivalente la expresón `a = a + b`\n",
    "* asignación y resta (`-=`): La expresion `a -= b` _asigna_ a la variable `a`, el valor actual de `a` restado del valor de `b`.  Es equivalente la expresón `a = a - b`\n",
    "\n",
    "Estas mismas variantes son aplicables también al resto de operadores aritméticos, es decir `*=`, `/*`, `%=`, etc.."
   ]
  },
  {
   "cell_type": "code",
   "execution_count": null,
   "metadata": {},
   "outputs": [],
   "source": [
    "b = 5\n",
    "a = b\n",
    "print(a)        # 5\n",
    "\n",
    "a += 3\n",
    "print(a)        # 8\n",
    "\n",
    "a -= b\n",
    "print(a)        # 3"
   ]
  },
  {
   "cell_type": "markdown",
   "metadata": {},
   "source": [
    "### 2.4. Operadores de comparación\n",
    "\n",
    "* Igualdad (==): La expresión `a == b` devuelve `True`, si los valores de `a` y `b` son iguales.  De lo contrario, devuelve `False`.\n",
    "* Desigualdad (!=): La expresión `a != b` devuelve `True`, si los valores de `a` y `b` son diferentes.  De lo contrario, devuelve `False`.\n",
    "* Mayor o igual que (>=)\n",
    "* Mayor o igual que (<=)\n",
    "* Mayor que (>)\n",
    "* Menor que (<)"
   ]
  },
  {
   "cell_type": "code",
   "execution_count": null,
   "metadata": {},
   "outputs": [],
   "source": [
    "a = 5\n",
    "b = 3\n",
    "\n",
    "print(a == b)   # False, pues a y b tienen distinto valor\n",
    "print(a != b)   # True\n",
    "print(a >= b)   # True\n",
    "print(a <= b)   # False\n",
    "print(b > a)    # False\n",
    "print(b < a)    # True"
   ]
  },
  {
   "cell_type": "markdown",
   "metadata": {},
   "source": [
    "### 2.5. Operadores lógicos\n",
    "\n",
    "* and: La expresión `a and b` devuelve `True`, si ambos valores `a` y `b` son `True`.  De lo contrario, devuelve `False`.\n",
    "* or: La expresión `a or b` devuelve `True`, si por lo menos uno de los dos valores `a` o `b` es `True`.\n",
    "* not: La expresion `not a` devuelve `False`, si el valor de `a` es `True`.  De lo contrario, devuelve `False`.\n",
    "\n",
    "Ej:"
   ]
  },
  {
   "cell_type": "code",
   "execution_count": null,
   "metadata": {},
   "outputs": [],
   "source": [
    "# Triangulo: Tres valores forman un triángulo si la suma de dos valores cualesquiera es mayor al tercer valor.\n",
    "# Escaleno:  Aquel triángulo que tiene sus tres lados de diferente tamaño\n",
    "# Isóceles:  Aquel triángulo que tiene dos de sus lados iguales y uno diferente\n",
    "# Equilátero:  Aquel triángulo que tiene sus tres lados del mismo tamaño\n",
    "\n",
    "a = 6\n",
    "b = 3\n",
    "c = 3\n",
    "\n",
    "es_triangulo = (a + b > c) and (a + c > b) and (b + c > a)\n",
    "\n",
    "es_escaleno = es_triangulo and (a != b and b != c and c != a)\n",
    "es_isoceles = es_triangulo and ((a == b and c != a) or (b == c and a != b) or (c == a and b != c))\n",
    "es_equilatero = es_triangulo and (a == b and a == c)\n",
    "\n",
    "print(\"Es Triangulo: \", es_triangulo)\n",
    "print(\"Escaleno: \", es_escaleno)\n",
    "print(\"Isoceles: \", es_isoceles)\n",
    "print(\"Equilatero: \", es_equilatero)"
   ]
  },
  {
   "cell_type": "markdown",
   "metadata": {},
   "source": [
    "Otro ejemplo:"
   ]
  },
  {
   "cell_type": "code",
   "execution_count": null,
   "metadata": {},
   "outputs": [],
   "source": [
    "# Año Bisiesto: \n",
    "# Todos los años divisibles por cuatro deben ser años bisiestos, excepto los años centenarios, que deben ser divisibles por 400 para ser años bisiestos.\n",
    "\n",
    "a = 2024\n",
    "\n",
    "es_centenario = (a % 100 == 0)\n",
    "es_bisiesto = (a % 4 == 0) and (not es_centenario or (es_centenario and a % 400 == 0))\n",
    "\n",
    "print(\"Es bisiesto: \", es_bisiesto)"
   ]
  }
 ],
 "metadata": {
  "language_info": {
   "name": "python"
  }
 },
 "nbformat": 4,
 "nbformat_minor": 2
}
