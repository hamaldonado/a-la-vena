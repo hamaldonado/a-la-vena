{
 "cells": [
  {
   "cell_type": "markdown",
   "metadata": {},
   "source": [
    "## **6. Funciones**\n",
    "\n",
    "### **6.1 Introducción**\n",
    "En Python, una función es un bloque de código reutilizable que realiza una tarea específica. Las funciones permiten dividir el código en bloques más pequeños, lo que facilita la lectura, la depuración y la reutilización del código.\n",
    "\n",
    "### **6.2 Estructura básica de una función**\n",
    "Una función en Python se define utilizando la palabra clave def, seguida del nombre de la función y paréntesis que pueden contener o no parametros.  Los parametros de una funcion son variables que reciben valores (llamados argumentos) al momento de invocarse la funcion.  \n",
    "\n",
    "En el sentido mas simple, una funcion tiene la siguiente estructura:\n",
    "\n",
    "``` python\n",
    "def nombre_de_la_funcion(parametros):\n",
    "    # Cuerpo de la función\n",
    "    # Realiza alguna tarea\n",
    "    return resultado\n",
    "```\n",
    "\n",
    "Algunos ejemplos:"
   ]
  },
  {
   "cell_type": "code",
   "execution_count": 2,
   "metadata": {},
   "outputs": [],
   "source": [
    "def crear_saludo(nombre):\n",
    "    mensaje = \"¡Hola, \" + nombre + \"!\"\n",
    "    return mensaje"
   ]
  },
  {
   "cell_type": "markdown",
   "metadata": {},
   "source": [
    "En el ejemplo podemos ver que la función `crear_saludo()` ha sido definida para recibir un único argumento a través del parametro \"nombre\".  \n",
    "\n",
    "Seguidamente, la función hace uso de dicho argumento para construir un `str` que contiene el saludo, el cual es asignado a la variable \"mensaje\".  \n",
    "\n",
    "Como último paso, la función devuelve o retorna el contenido de la variable mensaje a su invocador."
   ]
  },
  {
   "cell_type": "markdown",
   "metadata": {},
   "source": [
    "### **6.3 Llamar o invocar una función previamente definida**\n",
    "\n",
    "Para llamar o invocar una función, hacemos esto:"
   ]
  },
  {
   "cell_type": "code",
   "execution_count": null,
   "metadata": {},
   "outputs": [],
   "source": [
    "saludo = crear_saludo(\"Pepe\")\n",
    "print(saludo)    # Imprime \"¡Hola, Pepe!\""
   ]
  },
  {
   "cell_type": "markdown",
   "metadata": {},
   "source": [
    " En este punto podemos ver que se invoca la función `crear_saludo()` pasando \"Pepe\" como argumento.  El valor retornado por la función es asignado a la variable `saludo`.  Luego, esta variable es usada en el último print para mostrar el saludo en pantalla."
   ]
  },
  {
   "cell_type": "code",
   "execution_count": null,
   "metadata": {},
   "outputs": [],
   "source": [
    "def calcular_edad(ano_nacimiento, ano_actual):\n",
    "    edad = ano_actual - ano_nacimiento\n",
    "    return edad"
   ]
  },
  {
   "cell_type": "code",
   "execution_count": null,
   "metadata": {},
   "outputs": [],
   "source": [
    "edad = calcular_edad(1995, 2024)\n",
    "print(f\"¡Felices {edad} años!\")  # Imprime \"¡Felices 29 años!\"\""
   ]
  },
  {
   "cell_type": "markdown",
   "metadata": {},
   "source": [
    "### **6.4 Argumentos de una función**\n",
    "Una función puede tener cero o más argumentos. Estos se utilizan para pasar información a la función cuando es llamada. Hay diferentes tipos de argumentos:\n",
    "\n",
    "#### **6.4.1 Argumentos posicionales**\n",
    "Cuando los argumentos son posicionales, estos se asignan respetando el orden en el que se definieron los parámetros. Ej:"
   ]
  },
  {
   "cell_type": "code",
   "execution_count": null,
   "metadata": {},
   "outputs": [],
   "source": [
    "# Definimos la función\n",
    "def area_triangulo(base, altura):\n",
    "    return base * altura / 2\n",
    "\n",
    "# Invocamos la función    \n",
    "area = area_triangulo(100, 50)  # Argumentos posicionales. \n",
    "print(area)"
   ]
  },
  {
   "cell_type": "markdown",
   "metadata": {},
   "source": [
    "En este este ejemplo el argumento 100 se asocia al parámetro \"base\" y el argumento 50 se asocia al parámetro \"altura\" "
   ]
  },
  {
   "cell_type": "markdown",
   "metadata": {},
   "source": [
    "#### **6.4.2 Argumentos con palabras clave o nombrados**\n",
    "Cuando los argumentos son \"nombrados\", estos deben indicar explícitamente a qué parámetros deben ser asignados.  El orden en el que se asignen es irrelevante.  Ej:"
   ]
  },
  {
   "cell_type": "code",
   "execution_count": null,
   "metadata": {},
   "outputs": [],
   "source": [
    "# Definimos la funcion\n",
    "def area_triangulo(base, altura):\n",
    "    return base * altura / 2\n",
    "\n",
    "# Invocamos la funcion.  \n",
    "area = area_triangulo(altura=50, base=100)  # Argumentos nombrados. \n",
    "print(area)"
   ]
  },
  {
   "cell_type": "markdown",
   "metadata": {},
   "source": [
    "En este caso primero se asocia argumento 50 al parámetro \"altura\" y luego \n",
    "el argumento 100 se asocia al parámetro \"base\", esto a pesar de que en la \n",
    "definición de la función primero esta \"base\" y luego \"altura\"."
   ]
  },
  {
   "cell_type": "markdown",
   "metadata": {},
   "source": [
    "#### **6.4.3 Argumentos por defecto**\n",
    "Los argumentos por defecto tienen un valor predeterminado que es usado en caso no se proporcionen al llamar a la función.  Este tipo de argumento es definido junto con la función.  Ej:"
   ]
  },
  {
   "cell_type": "code",
   "execution_count": null,
   "metadata": {},
   "outputs": [],
   "source": [
    "# Definimos la función\n",
    "def area_triangulo(base, altura=75): # Argumento por defecto\n",
    "    return base * altura / 2\n",
    "\n",
    "# Invocamos la función  \n",
    "area = area_triangulo(base=100)  # Se usa el argumento por defecto para \"altura\" (75) \n",
    "print(area)\n",
    "  \n",
    "area = area_triangulo(60, 10)  # No es necesario usar el argumento por defecto. \n",
    "print(area)"
   ]
  },
  {
   "cell_type": "markdown",
   "metadata": {},
   "source": [
    "En el ejemplo vemos que al momento de definir la función `area_triangulo()` se declaró 2 parámetros, el segundo de ellos con un argumento por defecto de 75.  \n",
    "\n",
    "En la primera invocación, no se especifica un argumento para \"altura\", por lo que Python usará el argumento por defecto (75).  En la segunda invocación, si se especifica un argumento para \"altura\", por lo que no será necesario aplicar el argumento por defecto."
   ]
  },
  {
   "cell_type": "markdown",
   "metadata": {},
   "source": [
    "### Retorno de valores\n",
    "Una función puede devolver un valor utilizando la declaración return. Si no se especifica return, la función devuelve None automáticamente."
   ]
  }
 ],
 "metadata": {
  "kernelspec": {
   "display_name": "venv",
   "language": "python",
   "name": "python3"
  },
  "language_info": {
   "codemirror_mode": {
    "name": "ipython",
    "version": 3
   },
   "file_extension": ".py",
   "mimetype": "text/x-python",
   "name": "python",
   "nbconvert_exporter": "python",
   "pygments_lexer": "ipython3",
   "version": "3.10.12"
  }
 },
 "nbformat": 4,
 "nbformat_minor": 2
}
