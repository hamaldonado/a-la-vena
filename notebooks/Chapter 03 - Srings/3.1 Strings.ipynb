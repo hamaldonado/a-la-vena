{
 "cells": [
  {
   "cell_type": "markdown",
   "metadata": {},
   "source": [
    "## **3. Strings**\n",
    "\n",
    "### **3.1 Introducción**\n",
    "En Python, un \"string\" (o cadena de caracteres) es una secuencia de caracteres encerrados entre comillas simples ('') o dobles (\"\"). Los strings son inmutables, lo que significa que una vez creados, no se pueden modificar.  El tipo de dato asociado a un string es `str`\n",
    "\n",
    "### **3.2 Creación de Strings**\n",
    "Existen tres formas de crear un string:"
   ]
  },
  {
   "cell_type": "code",
   "execution_count": null,
   "metadata": {},
   "outputs": [],
   "source": [
    "# Strings simples\n",
    "cadena_simple = 'Hola mundo'\n",
    "cadena_doble = \"¡Hola mundo!\"\n",
    "\n",
    "# Strings multilinea\n",
    "cadena_multilinea = '''\n",
    "Este es un ejemplo\n",
    "de cadena multilínea\n",
    "en Python\n",
    "'''"
   ]
  },
  {
   "cell_type": "markdown",
   "metadata": {},
   "source": [
    "### **3.3 Acceso a las partes de un String**\n",
    "Los caracteres dentro de un string pueden ser accedidos individualmente utilizando índices. Python utiliza indexación basada en cero, lo que significa que el primer carácter tiene un índice de 0. Ej:"
   ]
  },
  {
   "cell_type": "code",
   "execution_count": null,
   "metadata": {},
   "outputs": [],
   "source": [
    "mensaje = \"Arriba Perú!\"\n",
    "\n",
    "# Acceso individual por índice\n",
    "print(mensaje[0])  # 'A'\n",
    "print(mensaje[1])  # 'r'\n",
    "print(mensaje[2])  # 'r'\n",
    "print(mensaje[3])  # 'i'"
   ]
  },
  {
   "cell_type": "markdown",
   "metadata": {},
   "source": [
    "En Python, el uso de indices negativos es permitido y se usa para representar las posiciones de la cadena yendo de atrás para adelente.  Así, el índice -1 representara el último caracter de la cadena, el -2 el penúltimo, y así sucesivamente.  Ej: "
   ]
  },
  {
   "cell_type": "code",
   "execution_count": null,
   "metadata": {},
   "outputs": [],
   "source": [
    "# Los índices negativos se recorren de atras para adelante\n",
    "print(mensaje[-1])  # '!'\n",
    "print(mensaje[-2])  # 'u'\n",
    "print(mensaje[-3])  # 'r'\n",
    "print(mensaje[-4])  # 'e'\n",
    "print(mensaje[-5])  # 'P'"
   ]
  },
  {
   "cell_type": "markdown",
   "metadata": {},
   "source": [
    "En caso necesitemos acceder a una sub-cadena dentro de la cadena, podemos usar rangos en lugar de índices, de la forma `string[inicio:fin]`.  Tener siempre en cuenta que los rangos en Python son cerrados por la izquierda y abiertos por la derecha, es decir `[inicio:fin]` abarcará los caracteres ubicados entre las posiciones `inicio` y (`fin` - 1). Ej: "
   ]
  },
  {
   "cell_type": "code",
   "execution_count": null,
   "metadata": {},
   "outputs": [],
   "source": [
    "# Acceso utilizando rangos\n",
    "print(mensaje[0:4])   # 'Arri' <- imprime los caracteres entre las posiciones 0 y 3"
   ]
  },
  {
   "cell_type": "markdown",
   "metadata": {},
   "source": [
    "Los rangos también admiten un tercer parámetro, llamado \"step\" o \"salto\".  Este parámetro lo usamos para incluir solamente los caracteres que existen cada cierto numero de pasos.  En el siguiente ejemplo lo veremos mas sencillo:"
   ]
  },
  {
   "cell_type": "code",
   "execution_count": null,
   "metadata": {},
   "outputs": [],
   "source": [
    "mensaje = \"ABCDEFGHIJKLMNOPQ\"\n",
    "\n",
    "print(mensaje[::2])   # 'ACEGIKMOQ'  (cada dos posiciones)\n",
    "print(mensaje[::3])   # 'ADGJMP'  (cada tres posiciones)\n",
    "print(mensaje[::4])   # 'AEIMQ'  (cada cuatro posiciones)"
   ]
  },
  {
   "cell_type": "markdown",
   "metadata": {},
   "source": [
    "Podemos usar este tercer parámetro del rango para invertir una cadena.  Ej:"
   ]
  },
  {
   "cell_type": "code",
   "execution_count": null,
   "metadata": {},
   "outputs": [],
   "source": [
    "mensaje = \"Arriba Peru!\"\n",
    "\n",
    "# Acceso individual por índice\n",
    "print(mensaje[::-1])  # '!ureP abirrA'"
   ]
  },
  {
   "cell_type": "markdown",
   "metadata": {},
   "source": [
    "### **3.4 Funciones usadas comunmente con Strings**\n",
    "\n",
    "#### **3.4.1 len()**\n",
    "La función len() devuelve la longitud de un string, es decir, el número de caracteres que contiene."
   ]
  },
  {
   "cell_type": "code",
   "execution_count": null,
   "metadata": {},
   "outputs": [],
   "source": [
    "mensaje = \"Hola mundo\"\n",
    "longitud = len(mensaje) # 10"
   ]
  },
  {
   "cell_type": "markdown",
   "metadata": {},
   "source": [
    "#### **3.4.2 upper() y lower()**\n",
    "Las funciones upper() y lower() convierten un string a mayúsculas o minúsculas, respectivamente. Ej:"
   ]
  },
  {
   "cell_type": "code",
   "execution_count": null,
   "metadata": {},
   "outputs": [],
   "source": [
    "mensaje = \"Hola mundo\"\n",
    "mayusculas = mensaje.upper() # \"HOLA MUNDO\"\n",
    "minusculas = mensaje.lower() # \"hola mundo\"\n"
   ]
  },
  {
   "cell_type": "markdown",
   "metadata": {},
   "source": [
    "#### **3.4.3 rstrip(), lstrip() y strip()**\n",
    "Las funciones rstrip(), lstrip() y strip() devuelven una versión nueva de la cadena retirándole los espacios extra que tiene a la derecha, izquiera y ambos lados respectivamente.  Ej:\n"
   ]
  },
  {
   "cell_type": "code",
   "execution_count": null,
   "metadata": {},
   "outputs": [],
   "source": [
    "mensaje = \"   Arriba Peru!   \"\n",
    "print(mensaje.rstrip())     # \"   Arriba Peru!\"\n",
    "print(mensaje.lstrip())     # \"Arriba Peru!   \"\n",
    "print(mensaje.strip())      # \"Arriba Peru!\"\n"
   ]
  },
  {
   "cell_type": "markdown",
   "metadata": {},
   "source": [
    "### **3.5 Formateo de Srings**\n",
    "El formateo de cadenas en Python es una técnica fundamental para manipular y presentar datos de manera legible y estructurada. Existen dos métodos principales para formatear cadenas: utilizando el método format() y las f-strings (cadenas f). Ambos métodos ofrecen flexibilidad y poder para ajustar la presentación de datos según nuestras necesidades."
   ]
  },
  {
   "cell_type": "markdown",
   "metadata": {},
   "source": [
    "#### **3.5.1 La función `format()`**\n",
    "Esta función permite formatear cadenas con una sintáxis más flexible que las concatenaciones tradicionales. Permite especificar el orden de los argumentos y proporciona opciones para controlar el formato de los datos. Ej:"
   ]
  },
  {
   "cell_type": "code",
   "execution_count": null,
   "metadata": {},
   "outputs": [],
   "source": [
    "nombre = \"Juan\"\n",
    "edad = 30\n",
    "\n",
    "# Usando format() para combinar texto y variables\n",
    "mensaje = \"Hola, soy {} y tengo {} años.\".format(nombre, edad)\n",
    "print(mensaje)"
   ]
  },
  {
   "cell_type": "markdown",
   "metadata": {},
   "source": [
    "En este ejemplo, `{}` actúa como marcadores de posición que son reemplazados por los valores de `nombre` y `edad`, en el orden en que se presentan. "
   ]
  },
  {
   "cell_type": "markdown",
   "metadata": {},
   "source": [
    "##### **Indicar un orden distinto para los argumentos**\n",
    "Es posible, además, indicar el orden en el que deben ser tomados los argumentos.  Para ello indicamos el índice en el marcador de posición. Ej:"
   ]
  },
  {
   "cell_type": "code",
   "execution_count": null,
   "metadata": {},
   "outputs": [],
   "source": [
    "resultado = \"{1} - {0}\".format(\"uno\", \"dos\")\n",
    "print(resultado)  # Salida: dos - uno"
   ]
  },
  {
   "cell_type": "markdown",
   "metadata": {},
   "source": [
    "Aquí, {1} y {0} indican el orden en el que se deben insertar los argumentos en la cadena formateada.  Como el argumento en la posición 1 es \"dos\" se coloca primero seguido del argumento en la posición 0 (\"uno\"). "
   ]
  },
  {
   "cell_type": "markdown",
   "metadata": {},
   "source": [
    "##### **Formatar números dentro de un String**\n",
    "Usando `format()` también podemos alterar la manera en la que se presentan los números decimales.   Por ejemplo, en el siguiente código, el número es formateado a dos decimales."
   ]
  },
  {
   "cell_type": "code",
   "execution_count": null,
   "metadata": {},
   "outputs": [],
   "source": [
    "pi = 3.14159265359\n",
    "resultado = \"El valor de pi es aproximadamente {:.2f}\".format(pi)\n",
    "print(resultado)  # Salida: El valor de pi es aproximadamente 3.14"
   ]
  },
  {
   "cell_type": "markdown",
   "metadata": {},
   "source": [
    "De igual manera podemos agregar ceros a la izaquierda en los números enteros.  En el siguiente ejemplo, el \":03\" dentro de {} indica que número debe tener un ancho de tres caracteres, rellenando con ceros a la izquierda si es necesario:"
   ]
  },
  {
   "cell_type": "code",
   "execution_count": null,
   "metadata": {},
   "outputs": [],
   "source": [
    "resultado = \"Leer capitulos {:03}, {:03} y {:03}\".format(8, 9, 10)\n",
    "print(resultado)  # Salida: \"Leer capítulos 008, 009 y 010\""
   ]
  },
  {
   "cell_type": "markdown",
   "metadata": {},
   "source": [
    "##### **Controlar la alineación y el ancho**\n",
    "Con `format()` podemos también alterar la forma en la que el texto aparece alineado, asi como rellenarlo como espacios para \"cuadrar\" su ancho.  Ej:"
   ]
  },
  {
   "cell_type": "code",
   "execution_count": null,
   "metadata": {},
   "outputs": [],
   "source": [
    "nombre = \"Carlos\"\n",
    "apellido = \"González\"\n",
    "\n",
    "# Alineación a la derecha con un ancho total de 20 caracteres\n",
    "resultado = \"{:20}\".format(nombre)\n",
    "print(resultado)  # Salida: \"Carlos              \"\n",
    "\n",
    "# Alineación a la izquierda con un ancho total de 20 caracteres\n",
    "resultado = \"{:<20}\".format(apellido)\n",
    "print(resultado)  # Salida: \"González            \""
   ]
  },
  {
   "cell_type": "markdown",
   "metadata": {},
   "source": [
    "#### **3.5.2 Uso de f-strings**\n",
    "Las f-strings son una característica más reciente de Python (a partir de Python 3.6) que ofrecen una sintaxis más simple y legible para el formateo de cadenas.  Las f-strings se escriben siempre con una 'f' delante (de ahi su nombre). Permiten insertar valores de variables directamente dentro de cadenas mediante expresiones dentro de {}.  Ej:"
   ]
  },
  {
   "cell_type": "code",
   "execution_count": null,
   "metadata": {},
   "outputs": [],
   "source": [
    "nombre = \"Ana\"\n",
    "edad = 25\n",
    "\n",
    "# Ejemplo básico de f-string\n",
    "mensaje = f\"Hola, soy {nombre} y tengo {edad} años.\"\n",
    "print(mensaje)"
   ]
  },
  {
   "cell_type": "markdown",
   "metadata": {},
   "source": [
    "##### **Formatear números**\n",
    "Al igual que con `format()`, con las f-strings también podemos alterar la manera en la que se presentan los números muy fácilmnente.  Ej:"
   ]
  },
  {
   "cell_type": "code",
   "execution_count": null,
   "metadata": {},
   "outputs": [],
   "source": [
    "pi = 3.14159265359\n",
    "\n",
    "# Especificando el número de decimales con f-string\n",
    "resultado = f\"El valor de pi es aproximadamente {pi:.2f}\"\n",
    "print(resultado)  # Salida: El valor de pi es aproximadamente 3.14\n",
    "\n",
    "resultado = f\"Leer capitulos {9:03}, {10:03} y {11:03}\"\n",
    "print(resultado)  # Salida: Leer capitulos 008, 009 y 010"
   ]
  },
  {
   "cell_type": "markdown",
   "metadata": {},
   "source": [
    "##### **Alineación y ancho**\n",
    "Con las f-strings también podemos alterar la forma en la que el texto aparece alineado.  Ej:"
   ]
  },
  {
   "cell_type": "code",
   "execution_count": null,
   "metadata": {},
   "outputs": [],
   "source": [
    "nombre = \"Carlos Gonzales\"\n",
    "edad = 20\n",
    "nivel = \"C\"\n",
    "estatura = 1.7523\n",
    "\n",
    "resultado = f\"Nombre: {nombre:<20}\"  # Ancho total de la cadena es 20, con el texto alineado a la izquierda\n",
    "print(resultado)\n",
    "\n",
    "resultado = f\"Edad: {edad:>5}\"  # Ancho total de la cadena es 5, con el texto alineado a la derecha\n",
    "print(resultado)\n",
    "\n",
    "resultado = f\"Nivel: {nivel:^5}\"  # Ancho total de la cadena es 5, con el texto alineado a ambos lados (centrado)\n",
    "print(resultado)\n",
    "\n",
    "resultado = f\"Estatura: {estatura:>6.2f}\"  # Ancho total de la cadena es 6, con el texto alineado a la derecha y formateado a dos decimales\n",
    "print(resultado)\n"
   ]
  },
  {
   "cell_type": "markdown",
   "metadata": {},
   "source": [
    "Estas opciones de alineación y ancho son especialmente útiles cuando deseamos presentar información de una manera tabulada.  Ej:"
   ]
  },
  {
   "cell_type": "code",
   "execution_count": 18,
   "metadata": {},
   "outputs": [
    {
     "name": "stdout",
     "output_type": "stream",
     "text": [
      "-------------------------------------------------\n",
      "|        nombre        | edad  | nivel |  est.  |\n",
      "-------------------------------------------------\n",
      "| Carlos Gonzales      |    20 |   C   |   1.75 |\n",
      "| Jorge Lopez          |    31 |   A   |   1.81 |\n",
      "| Miguel Suarez        |    18 |   A   |   1.80 |\n",
      "| Julian Ordonez       |    27 |   B   |   1.68 |\n",
      "-------------------------------------------------\n"
     ]
    }
   ],
   "source": [
    "nombre_1 = \"Carlos Gonzales\"\n",
    "edad_1 = 20\n",
    "nivel_1 = \"C\"\n",
    "estatura_1 = 1.7523\n",
    "\n",
    "nombre_2 = \"Jorge Lopez\"\n",
    "edad_2 = 31\n",
    "nivel_2 = \"A\"\n",
    "estatura_2 = 1.8121\n",
    "\n",
    "nombre_3 = \"Miguel Suarez\"\n",
    "edad_3 = 18\n",
    "nivel_3 = \"A\"\n",
    "estatura_3 = 1.7965\n",
    "\n",
    "nombre_4 = \"Julian Ordonez\"\n",
    "edad_4 = 27\n",
    "nivel_4 = \"B\"\n",
    "estatura_4 = 1.6849\n",
    "\n",
    "\n",
    "# Imprimimos una tabla con los datos\n",
    "print(\"-\" * 49)\n",
    "print(f\"| {'nombre':^20} | {'edad':^5} | {'nivel':^5} | {'est.':^6} |\")\n",
    "print(\"-\" * 49)\n",
    "print(f\"| {nombre_1:<20} | {edad_1:>5} | {nivel_1:^5} | {estatura_1:>6.2f} |\")\n",
    "print(f\"| {nombre_2:<20} | {edad_2:>5} | {nivel_2:^5} | {estatura_2:>6.2f} |\")\n",
    "print(f\"| {nombre_3:<20} | {edad_3:>5} | {nivel_3:^5} | {estatura_3:>6.2f} |\")\n",
    "print(f\"| {nombre_4:<20} | {edad_4:>5} | {nivel_4:^5} | {estatura_4:>6.2f} |\")\n",
    "print(\"-\" * 49)\n"
   ]
  }
 ],
 "metadata": {
  "kernelspec": {
   "display_name": "venv",
   "language": "python",
   "name": "python3"
  },
  "language_info": {
   "codemirror_mode": {
    "name": "ipython",
    "version": 3
   },
   "file_extension": ".py",
   "mimetype": "text/x-python",
   "name": "python",
   "nbconvert_exporter": "python",
   "pygments_lexer": "ipython3",
   "version": "3.10.12"
  }
 },
 "nbformat": 4,
 "nbformat_minor": 2
}
